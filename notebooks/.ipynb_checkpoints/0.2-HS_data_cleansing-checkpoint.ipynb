{
 "cells": [
  {
   "cell_type": "markdown",
   "metadata": {},
   "source": [
    "In and out path are declared here. In path is high school data stored inside the directory named Data HS."
   ]
  },
  {
   "cell_type": "code",
   "execution_count": 1,
   "metadata": {},
   "outputs": [],
   "source": [
    "in_path = \"../data/raw/Data HS/hs_data.xls\"\n",
    "out_path = \"../data/interim/HS_master.pkl\""
   ]
  },
  {
   "cell_type": "code",
   "execution_count": 2,
   "metadata": {},
   "outputs": [],
   "source": [
    "from os.path import dirname\n",
    "import os, sys, inspect\n",
    "\n",
    "currentdir = os.getcwd()\n",
    "parentdir = dirname(currentdir)\n",
    "\n",
    "sys.path.insert(0,parentdir)"
   ]
  },
  {
   "cell_type": "markdown",
   "metadata": {},
   "source": [
    "# Libs\n",
    "Imported libraries needed here."
   ]
  },
  {
   "cell_type": "code",
   "execution_count": 3,
   "metadata": {},
   "outputs": [],
   "source": [
    "import warnings\n",
    "warnings.filterwarnings('ignore')\n",
    "\n",
    "import pandas as pd\n",
    "import numpy as np \n",
    "\n",
    "from src.utils import dump_to_pickle\n",
    "\n",
    "pd.set_option('display.max_columns', 100)"
   ]
  },
  {
   "cell_type": "markdown",
   "metadata": {},
   "source": [
    "# Import Table"
   ]
  },
  {
   "cell_type": "code",
   "execution_count": 4,
   "metadata": {},
   "outputs": [],
   "source": [
    "hs_raw = pd.read_excel(in_path,\n",
    "                      usecols=[0,6,7,8],\n",
    "                      converters={'EMPLID': str})"
   ]
  },
  {
   "cell_type": "code",
   "execution_count": 5,
   "metadata": {},
   "outputs": [
    {
     "data": {
      "text/plain": [
       "(60976, 4)"
      ]
     },
     "execution_count": 5,
     "metadata": {},
     "output_type": "execute_result"
    }
   ],
   "source": [
    "hs_raw.shape"
   ]
  },
  {
   "cell_type": "code",
   "execution_count": 6,
   "metadata": {},
   "outputs": [
    {
     "name": "stdout",
     "output_type": "stream",
     "text": [
      "<class 'pandas.core.frame.DataFrame'>\n",
      "RangeIndex: 60976 entries, 0 to 60975\n",
      "Data columns (total 4 columns):\n",
      "EMPLID            60976 non-null object\n",
      "TEST_ID           60062 non-null object\n",
      "TEST_COMPONENT    60062 non-null object\n",
      "SCORE             60062 non-null float64\n",
      "dtypes: float64(1), object(3)\n",
      "memory usage: 1.9+ MB\n"
     ]
    }
   ],
   "source": [
    "hs_raw.info()"
   ]
  },
  {
   "cell_type": "code",
   "execution_count": 7,
   "metadata": {},
   "outputs": [
    {
     "data": {
      "text/plain": [
       "EMPLID              0\n",
       "TEST_ID           914\n",
       "TEST_COMPONENT    914\n",
       "SCORE             914\n",
       "dtype: int64"
      ]
     },
     "execution_count": 7,
     "metadata": {},
     "output_type": "execute_result"
    }
   ],
   "source": [
    "hs_raw.isnull().sum()"
   ]
  },
  {
   "cell_type": "markdown",
   "metadata": {},
   "source": [
    "# Cleaning"
   ]
  },
  {
   "cell_type": "markdown",
   "metadata": {},
   "source": [
    "Renaming column is performed to make the name similar to the one in other dataset for merging purpose later."
   ]
  },
  {
   "cell_type": "code",
   "execution_count": 8,
   "metadata": {},
   "outputs": [],
   "source": [
    "#rename column\n",
    "hs_master = hs_raw.rename(columns={\n",
    "    'EMPLID': 'NIM',\n",
    "})"
   ]
  },
  {
   "cell_type": "markdown",
   "metadata": {},
   "source": [
    "All rows with missing values are dropped as it's not large enough to be significant."
   ]
  },
  {
   "cell_type": "code",
   "execution_count": 9,
   "metadata": {},
   "outputs": [],
   "source": [
    "#drop missing values\n",
    "hs_master.dropna(inplace=True)"
   ]
  },
  {
   "cell_type": "markdown",
   "metadata": {},
   "source": [
    "Duplicted rows are also dropped."
   ]
  },
  {
   "cell_type": "code",
   "execution_count": 10,
   "metadata": {},
   "outputs": [],
   "source": [
    "#drop duplicates\n",
    "hs_master.drop_duplicates(subset=['NIM', 'TEST_ID', 'TEST_COMPONENT', 'SCORE'], inplace=True)"
   ]
  },
  {
   "cell_type": "markdown",
   "metadata": {},
   "source": [
    "USM data is dropped since the data can only be collected when students have already applied to UPH."
   ]
  },
  {
   "cell_type": "code",
   "execution_count": 11,
   "metadata": {},
   "outputs": [],
   "source": [
    "#drop USM\n",
    "hs_master = hs_master[hs_master['TEST_ID'] != 'USM']"
   ]
  },
  {
   "cell_type": "markdown",
   "metadata": {},
   "source": [
    "International curriculums are filtered out since they don't provide enough information about the test components. Therefore, only Indonesian curriculums are used."
   ]
  },
  {
   "cell_type": "code",
   "execution_count": 12,
   "metadata": {},
   "outputs": [],
   "source": [
    "filtered_curr = [\n",
    "    'DA101SOC', 'DA102SOC', 'DA111SOC', 'DA112SOC',\n",
    "    'DA101SCI', 'DA102SCI', 'DA111SCI', 'DA112SCI',\n",
    "    'JHS FINAL'\n",
    "]"
   ]
  },
  {
   "cell_type": "code",
   "execution_count": 13,
   "metadata": {},
   "outputs": [],
   "source": [
    "hs_master = hs_master[hs_master['TEST_ID'].isin(filtered_curr)]"
   ]
  },
  {
   "cell_type": "markdown",
   "metadata": {},
   "source": [
    "# Pivot\n",
    "Pivot table is performed so that each row will represent one student."
   ]
  },
  {
   "cell_type": "code",
   "execution_count": 14,
   "metadata": {},
   "outputs": [],
   "source": [
    "pvt = hs_master.pivot_table(index='NIM', columns='TEST_COMPONENT', values='SCORE').reset_index()"
   ]
  },
  {
   "cell_type": "code",
   "execution_count": 15,
   "metadata": {},
   "outputs": [
    {
     "data": {
      "text/plain": [
       "(2666, 10)"
      ]
     },
     "execution_count": 15,
     "metadata": {},
     "output_type": "execute_result"
    }
   ],
   "source": [
    "pvt.shape"
   ]
  },
  {
   "cell_type": "code",
   "execution_count": 16,
   "metadata": {},
   "outputs": [],
   "source": [
    "rearr_cols = [\n",
    "    'NIM',\n",
    "    'ENG',\n",
    "    'MATH',\n",
    "    'BIO',\n",
    "    'CHEM',\n",
    "    'PHY',\n",
    "    'ECON',\n",
    "    'GEO',\n",
    "    'SOC',\n",
    "    'FINAL'\n",
    "]"
   ]
  },
  {
   "cell_type": "code",
   "execution_count": 17,
   "metadata": {},
   "outputs": [],
   "source": [
    "pvt = pvt[rearr_cols]"
   ]
  },
  {
   "cell_type": "code",
   "execution_count": 18,
   "metadata": {
    "scrolled": false
   },
   "outputs": [
    {
     "data": {
      "text/html": [
       "<div>\n",
       "<style scoped>\n",
       "    .dataframe tbody tr th:only-of-type {\n",
       "        vertical-align: middle;\n",
       "    }\n",
       "\n",
       "    .dataframe tbody tr th {\n",
       "        vertical-align: top;\n",
       "    }\n",
       "\n",
       "    .dataframe thead th {\n",
       "        text-align: right;\n",
       "    }\n",
       "</style>\n",
       "<table border=\"1\" class=\"dataframe\">\n",
       "  <thead>\n",
       "    <tr style=\"text-align: right;\">\n",
       "      <th>TEST_COMPONENT</th>\n",
       "      <th>NIM</th>\n",
       "      <th>ENG</th>\n",
       "      <th>MATH</th>\n",
       "      <th>BIO</th>\n",
       "      <th>CHEM</th>\n",
       "      <th>PHY</th>\n",
       "      <th>ECON</th>\n",
       "      <th>GEO</th>\n",
       "      <th>SOC</th>\n",
       "      <th>FINAL</th>\n",
       "    </tr>\n",
       "  </thead>\n",
       "  <tbody>\n",
       "    <tr>\n",
       "      <td>0</td>\n",
       "      <td>01011180001</td>\n",
       "      <td>73.25</td>\n",
       "      <td>70.75</td>\n",
       "      <td>NaN</td>\n",
       "      <td>NaN</td>\n",
       "      <td>NaN</td>\n",
       "      <td>86.50</td>\n",
       "      <td>73.75</td>\n",
       "      <td>79.25</td>\n",
       "      <td>30.80</td>\n",
       "    </tr>\n",
       "    <tr>\n",
       "      <td>1</td>\n",
       "      <td>01011180002</td>\n",
       "      <td>77.75</td>\n",
       "      <td>64.75</td>\n",
       "      <td>NaN</td>\n",
       "      <td>NaN</td>\n",
       "      <td>NaN</td>\n",
       "      <td>79.25</td>\n",
       "      <td>80.00</td>\n",
       "      <td>76.25</td>\n",
       "      <td>25.95</td>\n",
       "    </tr>\n",
       "    <tr>\n",
       "      <td>2</td>\n",
       "      <td>01011180003</td>\n",
       "      <td>70.25</td>\n",
       "      <td>66.75</td>\n",
       "      <td>NaN</td>\n",
       "      <td>NaN</td>\n",
       "      <td>NaN</td>\n",
       "      <td>79.50</td>\n",
       "      <td>77.50</td>\n",
       "      <td>82.25</td>\n",
       "      <td>27.40</td>\n",
       "    </tr>\n",
       "    <tr>\n",
       "      <td>3</td>\n",
       "      <td>01011180004</td>\n",
       "      <td>82.25</td>\n",
       "      <td>85.00</td>\n",
       "      <td>NaN</td>\n",
       "      <td>NaN</td>\n",
       "      <td>NaN</td>\n",
       "      <td>71.75</td>\n",
       "      <td>77.75</td>\n",
       "      <td>72.75</td>\n",
       "      <td>28.40</td>\n",
       "    </tr>\n",
       "    <tr>\n",
       "      <td>4</td>\n",
       "      <td>01011180005</td>\n",
       "      <td>85.25</td>\n",
       "      <td>78.00</td>\n",
       "      <td>80.25</td>\n",
       "      <td>75.5</td>\n",
       "      <td>78.5</td>\n",
       "      <td>NaN</td>\n",
       "      <td>NaN</td>\n",
       "      <td>NaN</td>\n",
       "      <td>33.90</td>\n",
       "    </tr>\n",
       "  </tbody>\n",
       "</table>\n",
       "</div>"
      ],
      "text/plain": [
       "TEST_COMPONENT          NIM    ENG   MATH    BIO  CHEM   PHY   ECON    GEO  \\\n",
       "0               01011180001  73.25  70.75    NaN   NaN   NaN  86.50  73.75   \n",
       "1               01011180002  77.75  64.75    NaN   NaN   NaN  79.25  80.00   \n",
       "2               01011180003  70.25  66.75    NaN   NaN   NaN  79.50  77.50   \n",
       "3               01011180004  82.25  85.00    NaN   NaN   NaN  71.75  77.75   \n",
       "4               01011180005  85.25  78.00  80.25  75.5  78.5    NaN    NaN   \n",
       "\n",
       "TEST_COMPONENT    SOC  FINAL  \n",
       "0               79.25  30.80  \n",
       "1               76.25  25.95  \n",
       "2               82.25  27.40  \n",
       "3               72.75  28.40  \n",
       "4                 NaN  33.90  "
      ]
     },
     "execution_count": 18,
     "metadata": {},
     "output_type": "execute_result"
    }
   ],
   "source": [
    "pvt.head()"
   ]
  },
  {
   "cell_type": "markdown",
   "metadata": {},
   "source": [
    "# Dump to Pickle"
   ]
  },
  {
   "cell_type": "code",
   "execution_count": 19,
   "metadata": {},
   "outputs": [],
   "source": [
    "dump_to_pickle(pvt, out_path)"
   ]
  }
 ],
 "metadata": {
  "kernelspec": {
   "display_name": "Python 3",
   "language": "python",
   "name": "python3"
  },
  "language_info": {
   "codemirror_mode": {
    "name": "ipython",
    "version": 3
   },
   "file_extension": ".py",
   "mimetype": "text/x-python",
   "name": "python",
   "nbconvert_exporter": "python",
   "pygments_lexer": "ipython3",
   "version": "3.7.4"
  }
 },
 "nbformat": 4,
 "nbformat_minor": 2
}
