{
 "cells": [
  {
   "cell_type": "markdown",
   "metadata": {},
   "source": [
    "Input file of this notebook is the integrated data from previous notebook."
   ]
  },
  {
   "cell_type": "code",
   "execution_count": 1,
   "metadata": {},
   "outputs": [],
   "source": [
    "in_file_path = \"../data/processed/data_master.pkl\"\n",
    "out_file_path = \"../data/processed/data_model_noss.pkl\""
   ]
  },
  {
   "cell_type": "code",
   "execution_count": 2,
   "metadata": {},
   "outputs": [],
   "source": [
    "from os.path import dirname\n",
    "import os, sys, inspect\n",
    "\n",
    "currentdir = os.getcwd()\n",
    "parentdir = dirname(currentdir)\n",
    "\n",
    "sys.path.insert(0,parentdir)"
   ]
  },
  {
   "cell_type": "markdown",
   "metadata": {},
   "source": [
    "# Libs\n",
    "Importing libraries."
   ]
  },
  {
   "cell_type": "code",
   "execution_count": 3,
   "metadata": {},
   "outputs": [],
   "source": [
    "import warnings\n",
    "warnings.filterwarnings('ignore')\n",
    "\n",
    "import pandas as pd \n",
    "import numpy as np \n",
    "import matplotlib.pyplot as plt\n",
    "import seaborn as sns \n",
    "\n",
    "from feature_engine.categorical_encoders import MeanCategoricalEncoder\n",
    "from sklearn.preprocessing import StandardScaler, LabelEncoder\n",
    "\n",
    "from src.utils import dump_to_pickle\n",
    "\n",
    "pd.set_option('display.max_rows', 100)\n",
    "pd.set_option('display.max_columns', 100)"
   ]
  },
  {
   "cell_type": "markdown",
   "metadata": {},
   "source": [
    "# Load Data"
   ]
  },
  {
   "cell_type": "code",
   "execution_count": 4,
   "metadata": {},
   "outputs": [],
   "source": [
    "df = pd.read_pickle(in_file_path)"
   ]
  },
  {
   "cell_type": "code",
   "execution_count": 5,
   "metadata": {},
   "outputs": [
    {
     "data": {
      "text/plain": [
       "(2101, 25)"
      ]
     },
     "execution_count": 5,
     "metadata": {},
     "output_type": "execute_result"
    }
   ],
   "source": [
    "df.shape"
   ]
  },
  {
   "cell_type": "code",
   "execution_count": 6,
   "metadata": {},
   "outputs": [
    {
     "name": "stdout",
     "output_type": "stream",
     "text": [
      "<class 'pandas.core.frame.DataFrame'>\n",
      "Int64Index: 2101 entries, 0 to 2354\n",
      "Data columns (total 25 columns):\n",
      "NIM                  2101 non-null object\n",
      "form_number          2101 non-null object\n",
      "major_code_opcs      2101 non-null object\n",
      "major_name_opcs      2101 non-null object\n",
      "Last_CGPA            2101 non-null float64\n",
      "ENG                  2101 non-null float64\n",
      "MATH                 2101 non-null float64\n",
      "BIO                  2101 non-null float64\n",
      "CHEM                 2101 non-null float64\n",
      "PHY                  2101 non-null float64\n",
      "ECON                 2101 non-null float64\n",
      "GEO                  2101 non-null float64\n",
      "SOC                  2101 non-null float64\n",
      "FINAL                2101 non-null float64\n",
      "major_code_oa        2101 non-null object\n",
      "major_name_oa        2101 non-null object\n",
      "gender               2101 non-null object\n",
      "school_prop          2101 non-null object\n",
      "school_name          2002 non-null object\n",
      "school_state         2101 non-null object\n",
      "school_geo_unit      2101 non-null object\n",
      "curriculum_name      2101 non-null object\n",
      "fail                 2101 non-null int64\n",
      "has_changed_major    2101 non-null int64\n",
      "faculty              2101 non-null object\n",
      "dtypes: float64(10), int64(2), object(13)\n",
      "memory usage: 426.8+ KB\n"
     ]
    }
   ],
   "source": [
    "df.info()"
   ]
  },
  {
   "cell_type": "code",
   "execution_count": 7,
   "metadata": {},
   "outputs": [
    {
     "data": {
      "text/plain": [
       "NIM                   0\n",
       "form_number           0\n",
       "major_code_opcs       0\n",
       "major_name_opcs       0\n",
       "Last_CGPA             0\n",
       "ENG                   0\n",
       "MATH                  0\n",
       "BIO                   0\n",
       "CHEM                  0\n",
       "PHY                   0\n",
       "ECON                  0\n",
       "GEO                   0\n",
       "SOC                   0\n",
       "FINAL                 0\n",
       "major_code_oa         0\n",
       "major_name_oa         0\n",
       "gender                0\n",
       "school_prop           0\n",
       "school_name          99\n",
       "school_state          0\n",
       "school_geo_unit       0\n",
       "curriculum_name       0\n",
       "fail                  0\n",
       "has_changed_major     0\n",
       "faculty               0\n",
       "dtype: int64"
      ]
     },
     "execution_count": 7,
     "metadata": {},
     "output_type": "execute_result"
    }
   ],
   "source": [
    "df.isnull().sum()"
   ]
  },
  {
   "cell_type": "code",
   "execution_count": 8,
   "metadata": {},
   "outputs": [
    {
     "data": {
      "text/html": [
       "<div>\n",
       "<style scoped>\n",
       "    .dataframe tbody tr th:only-of-type {\n",
       "        vertical-align: middle;\n",
       "    }\n",
       "\n",
       "    .dataframe tbody tr th {\n",
       "        vertical-align: top;\n",
       "    }\n",
       "\n",
       "    .dataframe thead th {\n",
       "        text-align: right;\n",
       "    }\n",
       "</style>\n",
       "<table border=\"1\" class=\"dataframe\">\n",
       "  <thead>\n",
       "    <tr style=\"text-align: right;\">\n",
       "      <th></th>\n",
       "      <th>NIM</th>\n",
       "      <th>form_number</th>\n",
       "      <th>major_code_opcs</th>\n",
       "      <th>major_name_opcs</th>\n",
       "      <th>Last_CGPA</th>\n",
       "      <th>ENG</th>\n",
       "      <th>MATH</th>\n",
       "      <th>BIO</th>\n",
       "      <th>CHEM</th>\n",
       "      <th>PHY</th>\n",
       "      <th>ECON</th>\n",
       "      <th>GEO</th>\n",
       "      <th>SOC</th>\n",
       "      <th>FINAL</th>\n",
       "      <th>major_code_oa</th>\n",
       "      <th>major_name_oa</th>\n",
       "      <th>gender</th>\n",
       "      <th>school_prop</th>\n",
       "      <th>school_name</th>\n",
       "      <th>school_state</th>\n",
       "      <th>school_geo_unit</th>\n",
       "      <th>curriculum_name</th>\n",
       "      <th>fail</th>\n",
       "      <th>has_changed_major</th>\n",
       "      <th>faculty</th>\n",
       "    </tr>\n",
       "  </thead>\n",
       "  <tbody>\n",
       "    <tr>\n",
       "      <td>0</td>\n",
       "      <td>01011180001</td>\n",
       "      <td>1831100382</td>\n",
       "      <td>01011</td>\n",
       "      <td>Manajemen</td>\n",
       "      <td>3.25</td>\n",
       "      <td>73.25</td>\n",
       "      <td>70.75</td>\n",
       "      <td>0.00</td>\n",
       "      <td>0.0</td>\n",
       "      <td>0.0</td>\n",
       "      <td>86.50</td>\n",
       "      <td>73.75</td>\n",
       "      <td>79.25</td>\n",
       "      <td>30.80</td>\n",
       "      <td>01011</td>\n",
       "      <td>Manajemen</td>\n",
       "      <td>Female</td>\n",
       "      <td>SMA</td>\n",
       "      <td>SMAN 1 SIDIKALANG</td>\n",
       "      <td>SUMUT</td>\n",
       "      <td>SUM</td>\n",
       "      <td>Social</td>\n",
       "      <td>0</td>\n",
       "      <td>0</td>\n",
       "      <td>BS</td>\n",
       "    </tr>\n",
       "    <tr>\n",
       "      <td>1</td>\n",
       "      <td>01011180002</td>\n",
       "      <td>1811100709</td>\n",
       "      <td>01011</td>\n",
       "      <td>Manajemen</td>\n",
       "      <td>1.06</td>\n",
       "      <td>77.75</td>\n",
       "      <td>64.75</td>\n",
       "      <td>0.00</td>\n",
       "      <td>0.0</td>\n",
       "      <td>0.0</td>\n",
       "      <td>79.25</td>\n",
       "      <td>80.00</td>\n",
       "      <td>76.25</td>\n",
       "      <td>25.95</td>\n",
       "      <td>01011</td>\n",
       "      <td>Manajemen</td>\n",
       "      <td>Male</td>\n",
       "      <td>SMA</td>\n",
       "      <td>SMA Islam Al-Azhar 8 Bekasi</td>\n",
       "      <td>JABAR</td>\n",
       "      <td>JAV</td>\n",
       "      <td>Social</td>\n",
       "      <td>1</td>\n",
       "      <td>0</td>\n",
       "      <td>BS</td>\n",
       "    </tr>\n",
       "    <tr>\n",
       "      <td>2</td>\n",
       "      <td>01011180003</td>\n",
       "      <td>1811100388</td>\n",
       "      <td>01011</td>\n",
       "      <td>Manajemen</td>\n",
       "      <td>2.07</td>\n",
       "      <td>70.25</td>\n",
       "      <td>66.75</td>\n",
       "      <td>0.00</td>\n",
       "      <td>0.0</td>\n",
       "      <td>0.0</td>\n",
       "      <td>79.50</td>\n",
       "      <td>77.50</td>\n",
       "      <td>82.25</td>\n",
       "      <td>27.40</td>\n",
       "      <td>01011</td>\n",
       "      <td>Manajemen</td>\n",
       "      <td>Male</td>\n",
       "      <td>SMA</td>\n",
       "      <td>SMA Katolik St. Peter</td>\n",
       "      <td>NTT</td>\n",
       "      <td>SUN</td>\n",
       "      <td>Social</td>\n",
       "      <td>0</td>\n",
       "      <td>0</td>\n",
       "      <td>BS</td>\n",
       "    </tr>\n",
       "    <tr>\n",
       "      <td>3</td>\n",
       "      <td>01011180004</td>\n",
       "      <td>1831100016</td>\n",
       "      <td>01011</td>\n",
       "      <td>Manajemen</td>\n",
       "      <td>2.91</td>\n",
       "      <td>82.25</td>\n",
       "      <td>85.00</td>\n",
       "      <td>0.00</td>\n",
       "      <td>0.0</td>\n",
       "      <td>0.0</td>\n",
       "      <td>71.75</td>\n",
       "      <td>77.75</td>\n",
       "      <td>72.75</td>\n",
       "      <td>28.40</td>\n",
       "      <td>01011</td>\n",
       "      <td>Manajemen</td>\n",
       "      <td>Male</td>\n",
       "      <td>SMA</td>\n",
       "      <td>SMA El Shadai Magelang</td>\n",
       "      <td>JATENG</td>\n",
       "      <td>JAV</td>\n",
       "      <td>Social</td>\n",
       "      <td>0</td>\n",
       "      <td>0</td>\n",
       "      <td>BS</td>\n",
       "    </tr>\n",
       "    <tr>\n",
       "      <td>4</td>\n",
       "      <td>01011180005</td>\n",
       "      <td>1811100684</td>\n",
       "      <td>01011</td>\n",
       "      <td>Manajemen</td>\n",
       "      <td>3.28</td>\n",
       "      <td>85.25</td>\n",
       "      <td>78.00</td>\n",
       "      <td>80.25</td>\n",
       "      <td>75.5</td>\n",
       "      <td>78.5</td>\n",
       "      <td>0.00</td>\n",
       "      <td>0.00</td>\n",
       "      <td>0.00</td>\n",
       "      <td>33.90</td>\n",
       "      <td>01011</td>\n",
       "      <td>Manajemen</td>\n",
       "      <td>Male</td>\n",
       "      <td>SMK</td>\n",
       "      <td>SMK Eran Batu 2</td>\n",
       "      <td>SULSEL</td>\n",
       "      <td>SUL</td>\n",
       "      <td>Science</td>\n",
       "      <td>0</td>\n",
       "      <td>0</td>\n",
       "      <td>BS</td>\n",
       "    </tr>\n",
       "  </tbody>\n",
       "</table>\n",
       "</div>"
      ],
      "text/plain": [
       "           NIM form_number major_code_opcs major_name_opcs  Last_CGPA    ENG  \\\n",
       "0  01011180001  1831100382           01011       Manajemen       3.25  73.25   \n",
       "1  01011180002  1811100709           01011       Manajemen       1.06  77.75   \n",
       "2  01011180003  1811100388           01011       Manajemen       2.07  70.25   \n",
       "3  01011180004  1831100016           01011       Manajemen       2.91  82.25   \n",
       "4  01011180005  1811100684           01011       Manajemen       3.28  85.25   \n",
       "\n",
       "    MATH    BIO  CHEM   PHY   ECON    GEO    SOC  FINAL major_code_oa  \\\n",
       "0  70.75   0.00   0.0   0.0  86.50  73.75  79.25  30.80         01011   \n",
       "1  64.75   0.00   0.0   0.0  79.25  80.00  76.25  25.95         01011   \n",
       "2  66.75   0.00   0.0   0.0  79.50  77.50  82.25  27.40         01011   \n",
       "3  85.00   0.00   0.0   0.0  71.75  77.75  72.75  28.40         01011   \n",
       "4  78.00  80.25  75.5  78.5   0.00   0.00   0.00  33.90         01011   \n",
       "\n",
       "  major_name_oa  gender school_prop                  school_name school_state  \\\n",
       "0     Manajemen  Female         SMA            SMAN 1 SIDIKALANG        SUMUT   \n",
       "1     Manajemen    Male         SMA  SMA Islam Al-Azhar 8 Bekasi        JABAR   \n",
       "2     Manajemen    Male         SMA        SMA Katolik St. Peter          NTT   \n",
       "3     Manajemen    Male         SMA       SMA El Shadai Magelang       JATENG   \n",
       "4     Manajemen    Male         SMK              SMK Eran Batu 2       SULSEL   \n",
       "\n",
       "  school_geo_unit curriculum_name  fail  has_changed_major faculty  \n",
       "0             SUM          Social     0                  0      BS  \n",
       "1             JAV          Social     1                  0      BS  \n",
       "2             SUN          Social     0                  0      BS  \n",
       "3             JAV          Social     0                  0      BS  \n",
       "4             SUL         Science     0                  0      BS  "
      ]
     },
     "execution_count": 8,
     "metadata": {},
     "output_type": "execute_result"
    }
   ],
   "source": [
    "df.head()"
   ]
  },
  {
   "cell_type": "markdown",
   "metadata": {},
   "source": [
    "# Feature Engineering"
   ]
  },
  {
   "cell_type": "markdown",
   "metadata": {},
   "source": [
    "#### Drop Unused Features\n",
    "ID features and redundant features are dropped here to optimize the model performance. Features with high cardinality are also dropped. "
   ]
  },
  {
   "cell_type": "code",
   "execution_count": 9,
   "metadata": {},
   "outputs": [],
   "source": [
    "id_cols = [\n",
    "    'NIM', \n",
    "    'form_number',\n",
    "    'gender'\n",
    "]\n",
    "\n",
    "cols_to_drop = [\n",
    "    'Last_CGPA',\n",
    "    'major_code_opcs',\n",
    "    'major_code_oa',\n",
    "    'major_name_oa',\n",
    "    'school_name',\n",
    "    'curriculum_name',\n",
    "    'has_changed_major'\n",
    "]"
   ]
  },
  {
   "cell_type": "code",
   "execution_count": 10,
   "metadata": {},
   "outputs": [],
   "source": [
    "data = df.drop(id_cols+cols_to_drop, axis=1)"
   ]
  },
  {
   "cell_type": "markdown",
   "metadata": {},
   "source": [
    "#### Rename Columns"
   ]
  },
  {
   "cell_type": "code",
   "execution_count": 11,
   "metadata": {},
   "outputs": [],
   "source": [
    "data.rename(columns={\n",
    "    'major_name_opcs': 'major_name',\n",
    "    'ENG': 'hs_eng',\n",
    "    'MATH': 'hs_math',\n",
    "    'BIO': 'hs_bio',\n",
    "    'CHEM': 'hs_chem',\n",
    "    'PHY': 'hs_phy',\n",
    "    'ECON': 'hs_econ',\n",
    "    'GEO': 'hs_geo',\n",
    "    'SOC': 'hs_soc',\n",
    "    'FINAL': 'hs_final',\n",
    "}, inplace=True)"
   ]
  },
  {
   "cell_type": "markdown",
   "metadata": {},
   "source": [
    "## Transform Categorical Features\n",
    "Categorical features need to be transformed before it is fit to the machine learning model."
   ]
  },
  {
   "cell_type": "code",
   "execution_count": 12,
   "metadata": {},
   "outputs": [],
   "source": [
    "target_var = ['fail']\n",
    "\n",
    "cat_vars = [\n",
    "    'major_name',\n",
    "    'school_prop',\n",
    "    'school_geo_unit',\n",
    "    'school_state',\n",
    "    'faculty'\n",
    "]\n",
    "\n",
    "num_vars = [c for c in data.drop(target_var, axis=1).columns.values if c not in cat_vars]"
   ]
  },
  {
   "cell_type": "markdown",
   "metadata": {},
   "source": [
    "### Encode Categorical Features"
   ]
  },
  {
   "cell_type": "code",
   "execution_count": 13,
   "metadata": {},
   "outputs": [],
   "source": [
    "cat_df = data[cat_vars+target_var]"
   ]
  },
  {
   "cell_type": "code",
   "execution_count": 14,
   "metadata": {},
   "outputs": [],
   "source": [
    "encoded_data = cat_df.copy()"
   ]
  },
  {
   "cell_type": "markdown",
   "metadata": {},
   "source": [
    "###### Label Encoder\n",
    "Here we use `LabelEncoder` for simplicity."
   ]
  },
  {
   "cell_type": "code",
   "execution_count": 15,
   "metadata": {},
   "outputs": [],
   "source": [
    "le = LabelEncoder()"
   ]
  },
  {
   "cell_type": "code",
   "execution_count": 16,
   "metadata": {},
   "outputs": [],
   "source": [
    "for col in cat_vars:\n",
    "    encoded_data[col] = le.fit_transform(encoded_data[col]) "
   ]
  },
  {
   "cell_type": "code",
   "execution_count": 17,
   "metadata": {},
   "outputs": [],
   "source": [
    "#save encoded dict\n",
    "le.fit(cat_df['major_name'])\n",
    "major_le_dict = dict(zip(le.classes_, le.transform(le.classes_)))\n",
    "dump_to_pickle(major_le_dict, \"../app/data/major_le_dict.pkl\")"
   ]
  },
  {
   "cell_type": "markdown",
   "metadata": {},
   "source": [
    "The encoded data will look like this. No more `string` data type."
   ]
  },
  {
   "cell_type": "code",
   "execution_count": 18,
   "metadata": {},
   "outputs": [
    {
     "data": {
      "text/html": [
       "<div>\n",
       "<style scoped>\n",
       "    .dataframe tbody tr th:only-of-type {\n",
       "        vertical-align: middle;\n",
       "    }\n",
       "\n",
       "    .dataframe tbody tr th {\n",
       "        vertical-align: top;\n",
       "    }\n",
       "\n",
       "    .dataframe thead th {\n",
       "        text-align: right;\n",
       "    }\n",
       "</style>\n",
       "<table border=\"1\" class=\"dataframe\">\n",
       "  <thead>\n",
       "    <tr style=\"text-align: right;\">\n",
       "      <th></th>\n",
       "      <th>major_name</th>\n",
       "      <th>school_prop</th>\n",
       "      <th>school_geo_unit</th>\n",
       "      <th>school_state</th>\n",
       "      <th>faculty</th>\n",
       "      <th>fail</th>\n",
       "    </tr>\n",
       "  </thead>\n",
       "  <tbody>\n",
       "    <tr>\n",
       "      <td>0</td>\n",
       "      <td>14</td>\n",
       "      <td>4</td>\n",
       "      <td>6</td>\n",
       "      <td>33</td>\n",
       "      <td>0</td>\n",
       "      <td>0</td>\n",
       "    </tr>\n",
       "    <tr>\n",
       "      <td>1</td>\n",
       "      <td>14</td>\n",
       "      <td>4</td>\n",
       "      <td>0</td>\n",
       "      <td>7</td>\n",
       "      <td>0</td>\n",
       "      <td>1</td>\n",
       "    </tr>\n",
       "    <tr>\n",
       "      <td>2</td>\n",
       "      <td>14</td>\n",
       "      <td>4</td>\n",
       "      <td>7</td>\n",
       "      <td>21</td>\n",
       "      <td>0</td>\n",
       "      <td>0</td>\n",
       "    </tr>\n",
       "    <tr>\n",
       "      <td>3</td>\n",
       "      <td>14</td>\n",
       "      <td>4</td>\n",
       "      <td>0</td>\n",
       "      <td>9</td>\n",
       "      <td>0</td>\n",
       "      <td>0</td>\n",
       "    </tr>\n",
       "    <tr>\n",
       "      <td>4</td>\n",
       "      <td>14</td>\n",
       "      <td>5</td>\n",
       "      <td>5</td>\n",
       "      <td>27</td>\n",
       "      <td>0</td>\n",
       "      <td>0</td>\n",
       "    </tr>\n",
       "  </tbody>\n",
       "</table>\n",
       "</div>"
      ],
      "text/plain": [
       "   major_name  school_prop  school_geo_unit  school_state  faculty  fail\n",
       "0          14            4                6            33        0     0\n",
       "1          14            4                0             7        0     1\n",
       "2          14            4                7            21        0     0\n",
       "3          14            4                0             9        0     0\n",
       "4          14            5                5            27        0     0"
      ]
     },
     "execution_count": 18,
     "metadata": {},
     "output_type": "execute_result"
    }
   ],
   "source": [
    "encoded_data.head()"
   ]
  },
  {
   "cell_type": "markdown",
   "metadata": {},
   "source": [
    "Here we get the numerical data to be concated with encoded data later."
   ]
  },
  {
   "cell_type": "code",
   "execution_count": 19,
   "metadata": {},
   "outputs": [],
   "source": [
    "num_data = data[num_vars]"
   ]
  },
  {
   "cell_type": "code",
   "execution_count": 20,
   "metadata": {},
   "outputs": [
    {
     "data": {
      "text/html": [
       "<div>\n",
       "<style scoped>\n",
       "    .dataframe tbody tr th:only-of-type {\n",
       "        vertical-align: middle;\n",
       "    }\n",
       "\n",
       "    .dataframe tbody tr th {\n",
       "        vertical-align: top;\n",
       "    }\n",
       "\n",
       "    .dataframe thead th {\n",
       "        text-align: right;\n",
       "    }\n",
       "</style>\n",
       "<table border=\"1\" class=\"dataframe\">\n",
       "  <thead>\n",
       "    <tr style=\"text-align: right;\">\n",
       "      <th></th>\n",
       "      <th>hs_eng</th>\n",
       "      <th>hs_math</th>\n",
       "      <th>hs_bio</th>\n",
       "      <th>hs_chem</th>\n",
       "      <th>hs_phy</th>\n",
       "      <th>hs_econ</th>\n",
       "      <th>hs_geo</th>\n",
       "      <th>hs_soc</th>\n",
       "      <th>hs_final</th>\n",
       "    </tr>\n",
       "  </thead>\n",
       "  <tbody>\n",
       "    <tr>\n",
       "      <td>0</td>\n",
       "      <td>73.25</td>\n",
       "      <td>70.75</td>\n",
       "      <td>0.00</td>\n",
       "      <td>0.0</td>\n",
       "      <td>0.0</td>\n",
       "      <td>86.50</td>\n",
       "      <td>73.75</td>\n",
       "      <td>79.25</td>\n",
       "      <td>30.80</td>\n",
       "    </tr>\n",
       "    <tr>\n",
       "      <td>1</td>\n",
       "      <td>77.75</td>\n",
       "      <td>64.75</td>\n",
       "      <td>0.00</td>\n",
       "      <td>0.0</td>\n",
       "      <td>0.0</td>\n",
       "      <td>79.25</td>\n",
       "      <td>80.00</td>\n",
       "      <td>76.25</td>\n",
       "      <td>25.95</td>\n",
       "    </tr>\n",
       "    <tr>\n",
       "      <td>2</td>\n",
       "      <td>70.25</td>\n",
       "      <td>66.75</td>\n",
       "      <td>0.00</td>\n",
       "      <td>0.0</td>\n",
       "      <td>0.0</td>\n",
       "      <td>79.50</td>\n",
       "      <td>77.50</td>\n",
       "      <td>82.25</td>\n",
       "      <td>27.40</td>\n",
       "    </tr>\n",
       "    <tr>\n",
       "      <td>3</td>\n",
       "      <td>82.25</td>\n",
       "      <td>85.00</td>\n",
       "      <td>0.00</td>\n",
       "      <td>0.0</td>\n",
       "      <td>0.0</td>\n",
       "      <td>71.75</td>\n",
       "      <td>77.75</td>\n",
       "      <td>72.75</td>\n",
       "      <td>28.40</td>\n",
       "    </tr>\n",
       "    <tr>\n",
       "      <td>4</td>\n",
       "      <td>85.25</td>\n",
       "      <td>78.00</td>\n",
       "      <td>80.25</td>\n",
       "      <td>75.5</td>\n",
       "      <td>78.5</td>\n",
       "      <td>0.00</td>\n",
       "      <td>0.00</td>\n",
       "      <td>0.00</td>\n",
       "      <td>33.90</td>\n",
       "    </tr>\n",
       "  </tbody>\n",
       "</table>\n",
       "</div>"
      ],
      "text/plain": [
       "   hs_eng  hs_math  hs_bio  hs_chem  hs_phy  hs_econ  hs_geo  hs_soc  hs_final\n",
       "0   73.25    70.75    0.00      0.0     0.0    86.50   73.75   79.25     30.80\n",
       "1   77.75    64.75    0.00      0.0     0.0    79.25   80.00   76.25     25.95\n",
       "2   70.25    66.75    0.00      0.0     0.0    79.50   77.50   82.25     27.40\n",
       "3   82.25    85.00    0.00      0.0     0.0    71.75   77.75   72.75     28.40\n",
       "4   85.25    78.00   80.25     75.5    78.5     0.00    0.00    0.00     33.90"
      ]
     },
     "execution_count": 20,
     "metadata": {},
     "output_type": "execute_result"
    }
   ],
   "source": [
    "num_data.head()"
   ]
  },
  {
   "cell_type": "markdown",
   "metadata": {},
   "source": [
    "#### Concat\n",
    "The numerical and encoded categorical data are then merged again to make the whole model data."
   ]
  },
  {
   "cell_type": "code",
   "execution_count": 21,
   "metadata": {},
   "outputs": [],
   "source": [
    "transformed_data = pd.concat([num_data, encoded_data], axis=1)"
   ]
  },
  {
   "cell_type": "code",
   "execution_count": 22,
   "metadata": {},
   "outputs": [
    {
     "data": {
      "text/html": [
       "<div>\n",
       "<style scoped>\n",
       "    .dataframe tbody tr th:only-of-type {\n",
       "        vertical-align: middle;\n",
       "    }\n",
       "\n",
       "    .dataframe tbody tr th {\n",
       "        vertical-align: top;\n",
       "    }\n",
       "\n",
       "    .dataframe thead th {\n",
       "        text-align: right;\n",
       "    }\n",
       "</style>\n",
       "<table border=\"1\" class=\"dataframe\">\n",
       "  <thead>\n",
       "    <tr style=\"text-align: right;\">\n",
       "      <th></th>\n",
       "      <th>hs_eng</th>\n",
       "      <th>hs_math</th>\n",
       "      <th>hs_bio</th>\n",
       "      <th>hs_chem</th>\n",
       "      <th>hs_phy</th>\n",
       "      <th>hs_econ</th>\n",
       "      <th>hs_geo</th>\n",
       "      <th>hs_soc</th>\n",
       "      <th>hs_final</th>\n",
       "      <th>major_name</th>\n",
       "      <th>school_prop</th>\n",
       "      <th>school_geo_unit</th>\n",
       "      <th>school_state</th>\n",
       "      <th>faculty</th>\n",
       "      <th>fail</th>\n",
       "    </tr>\n",
       "  </thead>\n",
       "  <tbody>\n",
       "    <tr>\n",
       "      <td>0</td>\n",
       "      <td>73.25</td>\n",
       "      <td>70.75</td>\n",
       "      <td>0.00</td>\n",
       "      <td>0.0</td>\n",
       "      <td>0.0</td>\n",
       "      <td>86.50</td>\n",
       "      <td>73.75</td>\n",
       "      <td>79.25</td>\n",
       "      <td>30.80</td>\n",
       "      <td>14</td>\n",
       "      <td>4</td>\n",
       "      <td>6</td>\n",
       "      <td>33</td>\n",
       "      <td>0</td>\n",
       "      <td>0</td>\n",
       "    </tr>\n",
       "    <tr>\n",
       "      <td>1</td>\n",
       "      <td>77.75</td>\n",
       "      <td>64.75</td>\n",
       "      <td>0.00</td>\n",
       "      <td>0.0</td>\n",
       "      <td>0.0</td>\n",
       "      <td>79.25</td>\n",
       "      <td>80.00</td>\n",
       "      <td>76.25</td>\n",
       "      <td>25.95</td>\n",
       "      <td>14</td>\n",
       "      <td>4</td>\n",
       "      <td>0</td>\n",
       "      <td>7</td>\n",
       "      <td>0</td>\n",
       "      <td>1</td>\n",
       "    </tr>\n",
       "    <tr>\n",
       "      <td>2</td>\n",
       "      <td>70.25</td>\n",
       "      <td>66.75</td>\n",
       "      <td>0.00</td>\n",
       "      <td>0.0</td>\n",
       "      <td>0.0</td>\n",
       "      <td>79.50</td>\n",
       "      <td>77.50</td>\n",
       "      <td>82.25</td>\n",
       "      <td>27.40</td>\n",
       "      <td>14</td>\n",
       "      <td>4</td>\n",
       "      <td>7</td>\n",
       "      <td>21</td>\n",
       "      <td>0</td>\n",
       "      <td>0</td>\n",
       "    </tr>\n",
       "    <tr>\n",
       "      <td>3</td>\n",
       "      <td>82.25</td>\n",
       "      <td>85.00</td>\n",
       "      <td>0.00</td>\n",
       "      <td>0.0</td>\n",
       "      <td>0.0</td>\n",
       "      <td>71.75</td>\n",
       "      <td>77.75</td>\n",
       "      <td>72.75</td>\n",
       "      <td>28.40</td>\n",
       "      <td>14</td>\n",
       "      <td>4</td>\n",
       "      <td>0</td>\n",
       "      <td>9</td>\n",
       "      <td>0</td>\n",
       "      <td>0</td>\n",
       "    </tr>\n",
       "    <tr>\n",
       "      <td>4</td>\n",
       "      <td>85.25</td>\n",
       "      <td>78.00</td>\n",
       "      <td>80.25</td>\n",
       "      <td>75.5</td>\n",
       "      <td>78.5</td>\n",
       "      <td>0.00</td>\n",
       "      <td>0.00</td>\n",
       "      <td>0.00</td>\n",
       "      <td>33.90</td>\n",
       "      <td>14</td>\n",
       "      <td>5</td>\n",
       "      <td>5</td>\n",
       "      <td>27</td>\n",
       "      <td>0</td>\n",
       "      <td>0</td>\n",
       "    </tr>\n",
       "  </tbody>\n",
       "</table>\n",
       "</div>"
      ],
      "text/plain": [
       "   hs_eng  hs_math  hs_bio  hs_chem  hs_phy  hs_econ  hs_geo  hs_soc  \\\n",
       "0   73.25    70.75    0.00      0.0     0.0    86.50   73.75   79.25   \n",
       "1   77.75    64.75    0.00      0.0     0.0    79.25   80.00   76.25   \n",
       "2   70.25    66.75    0.00      0.0     0.0    79.50   77.50   82.25   \n",
       "3   82.25    85.00    0.00      0.0     0.0    71.75   77.75   72.75   \n",
       "4   85.25    78.00   80.25     75.5    78.5     0.00    0.00    0.00   \n",
       "\n",
       "   hs_final  major_name  school_prop  school_geo_unit  school_state  faculty  \\\n",
       "0     30.80          14            4                6            33        0   \n",
       "1     25.95          14            4                0             7        0   \n",
       "2     27.40          14            4                7            21        0   \n",
       "3     28.40          14            4                0             9        0   \n",
       "4     33.90          14            5                5            27        0   \n",
       "\n",
       "   fail  \n",
       "0     0  \n",
       "1     1  \n",
       "2     0  \n",
       "3     0  \n",
       "4     0  "
      ]
     },
     "execution_count": 22,
     "metadata": {},
     "output_type": "execute_result"
    }
   ],
   "source": [
    "transformed_data.head()"
   ]
  },
  {
   "cell_type": "markdown",
   "metadata": {},
   "source": [
    "# Dump to Pickle"
   ]
  },
  {
   "cell_type": "code",
   "execution_count": 23,
   "metadata": {},
   "outputs": [],
   "source": [
    "dump_to_pickle(transformed_data, out_file_path)"
   ]
  }
 ],
 "metadata": {
  "kernelspec": {
   "display_name": "Python 3",
   "language": "python",
   "name": "python3"
  },
  "language_info": {
   "codemirror_mode": {
    "name": "ipython",
    "version": 3
   },
   "file_extension": ".py",
   "mimetype": "text/x-python",
   "name": "python",
   "nbconvert_exporter": "python",
   "pygments_lexer": "ipython3",
   "version": "3.7.4"
  }
 },
 "nbformat": 4,
 "nbformat_minor": 2
}
