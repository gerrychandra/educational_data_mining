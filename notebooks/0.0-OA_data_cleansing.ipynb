{
 "cells": [
  {
   "cell_type": "code",
   "execution_count": 1,
   "metadata": {},
   "outputs": [],
   "source": [
    "from os.path import dirname\n",
    "import os, sys, inspect\n",
    "\n",
    "currentdir = os.getcwd()\n",
    "parentdir = dirname(currentdir)\n",
    "\n",
    "sys.path.insert(0,parentdir)"
   ]
  },
  {
   "cell_type": "markdown",
   "metadata": {},
   "source": [
    "# Libs"
   ]
  },
  {
   "cell_type": "code",
   "execution_count": 2,
   "metadata": {},
   "outputs": [],
   "source": [
    "import warnings\n",
    "warnings.filterwarnings('ignore')\n",
    "\n",
    "import pandas as pd \n",
    "import pickle"
   ]
  },
  {
   "cell_type": "markdown",
   "metadata": {},
   "source": [
    "# Import Tables"
   ]
  },
  {
   "cell_type": "code",
   "execution_count": 3,
   "metadata": {},
   "outputs": [],
   "source": [
    "OA_path = '../data/raw/Data OA/'"
   ]
  },
  {
   "cell_type": "code",
   "execution_count": 4,
   "metadata": {},
   "outputs": [],
   "source": [
    "dump_path = '../data/interim/'"
   ]
  },
  {
   "cell_type": "markdown",
   "metadata": {},
   "source": [
    "##### Form Admission"
   ]
  },
  {
   "cell_type": "code",
   "execution_count": 5,
   "metadata": {},
   "outputs": [],
   "source": [
    "form_raw = pd.read_excel(OA_path+'Form Admission.xls',\n",
    "                            usecols=[2,3,11])"
   ]
  },
  {
   "cell_type": "code",
   "execution_count": 6,
   "metadata": {},
   "outputs": [],
   "source": [
    "#take rows contain form_number only \n",
    "form_master = form_raw[form_raw['form_number'].notnull()]"
   ]
  },
  {
   "cell_type": "code",
   "execution_count": 7,
   "metadata": {},
   "outputs": [],
   "source": [
    "#format form\n",
    "form_master['form_number'] = form_master['form_number'].astype(str)\n",
    "form_master['form_number'] = form_master['form_number'].apply(lambda x: x[:-2])"
   ]
  },
  {
   "cell_type": "markdown",
   "metadata": {},
   "source": [
    "##### Student"
   ]
  },
  {
   "cell_type": "code",
   "execution_count": 8,
   "metadata": {},
   "outputs": [],
   "source": [
    "student_raw = pd.read_excel(OA_path+'Student.xls',\n",
    "                              usecols=[0,7,15,18])"
   ]
  },
  {
   "cell_type": "code",
   "execution_count": 9,
   "metadata": {},
   "outputs": [],
   "source": [
    "#rename column\n",
    "student_master = student_raw.rename(columns={\n",
    "    'id': 'student_id',\n",
    "    'high_school_id': 'school_id'\n",
    "})"
   ]
  },
  {
   "cell_type": "markdown",
   "metadata": {},
   "source": [
    "##### Major"
   ]
  },
  {
   "cell_type": "code",
   "execution_count": 10,
   "metadata": {},
   "outputs": [],
   "source": [
    "major_raw = pd.read_excel(OA_path+'Major.xls',\n",
    "                         usecols=[0,7])"
   ]
  },
  {
   "cell_type": "code",
   "execution_count": 11,
   "metadata": {},
   "outputs": [],
   "source": [
    "#rename column\n",
    "major_master = major_raw.rename(columns={\n",
    "    'id': 'major_id',\n",
    "    'name': 'major_name'\n",
    "})"
   ]
  },
  {
   "cell_type": "markdown",
   "metadata": {},
   "source": [
    "##### Gender"
   ]
  },
  {
   "cell_type": "code",
   "execution_count": 12,
   "metadata": {},
   "outputs": [],
   "source": [
    "gender_raw = pd.read_excel(OA_path+'Gender.xls',\n",
    "                          usecols=[1,3,4])"
   ]
  },
  {
   "cell_type": "code",
   "execution_count": 13,
   "metadata": {},
   "outputs": [],
   "source": [
    "gender_master = gender_raw.rename(columns={\n",
    "    'name': 'gender'\n",
    "})"
   ]
  },
  {
   "cell_type": "code",
   "execution_count": 14,
   "metadata": {},
   "outputs": [],
   "source": [
    "gender_master = gender_master[gender_master['language_code']=='en']\n",
    "gender_master.drop('language_code', axis=1, inplace=True)"
   ]
  },
  {
   "cell_type": "markdown",
   "metadata": {},
   "source": [
    "##### School"
   ]
  },
  {
   "cell_type": "code",
   "execution_count": 15,
   "metadata": {},
   "outputs": [],
   "source": [
    "school_raw = pd.read_excel(OA_path+'School Master.xls',\n",
    "                          usecols=[0,4,10,13])"
   ]
  },
  {
   "cell_type": "code",
   "execution_count": 16,
   "metadata": {},
   "outputs": [],
   "source": [
    "school_master = school_raw.rename(columns={\n",
    "    'id': 'school_id',\n",
    "    'STATE': 'school_state',\n",
    "    'PROPRIETORSHIP': 'school_prop',\n",
    "    'DESCR': 'school_name'\n",
    "})"
   ]
  },
  {
   "cell_type": "markdown",
   "metadata": {},
   "source": [
    "##### Curriculum"
   ]
  },
  {
   "cell_type": "code",
   "execution_count": 17,
   "metadata": {
    "scrolled": true
   },
   "outputs": [],
   "source": [
    "curriculum_raw = pd.read_excel(OA_path+'Curriculum.xls',\n",
    "                              usecols=[0,3])"
   ]
  },
  {
   "cell_type": "code",
   "execution_count": 18,
   "metadata": {},
   "outputs": [],
   "source": [
    "curriculum_master = curriculum_raw.rename(columns={\n",
    "    'id': 'curriculum_id',\n",
    "    'name': 'curriculum_name'\n",
    "})"
   ]
  },
  {
   "cell_type": "markdown",
   "metadata": {},
   "source": [
    "# Merge Tables"
   ]
  },
  {
   "cell_type": "code",
   "execution_count": 19,
   "metadata": {},
   "outputs": [],
   "source": [
    "#merge Form with Student\n",
    "OA_master = form_master.merge(student_master, how='left', on='student_id')"
   ]
  },
  {
   "cell_type": "code",
   "execution_count": 20,
   "metadata": {},
   "outputs": [],
   "source": [
    "#merge with Major\n",
    "OA_master = OA_master.merge(major_master, how='left', on='major_id')\n",
    "OA_master.drop('major_id', axis=1, inplace=True)"
   ]
  },
  {
   "cell_type": "code",
   "execution_count": 21,
   "metadata": {},
   "outputs": [],
   "source": [
    "#merge with Gender\n",
    "OA_master = OA_master.merge(gender_master, how='left', on='gender_id')\n",
    "OA_master.drop('gender_id', axis=1, inplace=True)"
   ]
  },
  {
   "cell_type": "code",
   "execution_count": 22,
   "metadata": {},
   "outputs": [],
   "source": [
    "#merge with School\n",
    "OA_master = OA_master.merge(school_master, how='left', on='school_id')\n",
    "OA_master.drop('school_id', axis=1, inplace=True)"
   ]
  },
  {
   "cell_type": "code",
   "execution_count": 23,
   "metadata": {},
   "outputs": [],
   "source": [
    "#merge with Curriculum\n",
    "OA_master = OA_master.merge(curriculum_master, how='left', on='curriculum_id')\n",
    "OA_master.drop('curriculum_id', axis=1, inplace=True)"
   ]
  },
  {
   "cell_type": "code",
   "execution_count": 24,
   "metadata": {
    "scrolled": true
   },
   "outputs": [
    {
     "data": {
      "text/html": [
       "<div>\n",
       "<style scoped>\n",
       "    .dataframe tbody tr th:only-of-type {\n",
       "        vertical-align: middle;\n",
       "    }\n",
       "\n",
       "    .dataframe tbody tr th {\n",
       "        vertical-align: top;\n",
       "    }\n",
       "\n",
       "    .dataframe thead th {\n",
       "        text-align: right;\n",
       "    }\n",
       "</style>\n",
       "<table border=\"1\" class=\"dataframe\">\n",
       "  <thead>\n",
       "    <tr style=\"text-align: right;\">\n",
       "      <th></th>\n",
       "      <th>student_id</th>\n",
       "      <th>form_number</th>\n",
       "      <th>major_name</th>\n",
       "      <th>gender</th>\n",
       "      <th>school_state</th>\n",
       "      <th>school_prop</th>\n",
       "      <th>school_name</th>\n",
       "      <th>curriculum_name</th>\n",
       "    </tr>\n",
       "  </thead>\n",
       "  <tbody>\n",
       "    <tr>\n",
       "      <th>0</th>\n",
       "      <td>4</td>\n",
       "      <td>1811200001</td>\n",
       "      <td>Manajemen</td>\n",
       "      <td>Female</td>\n",
       "      <td>SUMUT</td>\n",
       "      <td>SMA</td>\n",
       "      <td>SMA Negeri 1 Silima Pungga</td>\n",
       "      <td>Other</td>\n",
       "    </tr>\n",
       "    <tr>\n",
       "      <th>1</th>\n",
       "      <td>7</td>\n",
       "      <td>1811200002</td>\n",
       "      <td>Arsitektur</td>\n",
       "      <td>Male</td>\n",
       "      <td>SUMBAR</td>\n",
       "      <td>SMA</td>\n",
       "      <td>SMA Don Bosco Padang</td>\n",
       "      <td>International Baccaularate New</td>\n",
       "    </tr>\n",
       "    <tr>\n",
       "      <th>2</th>\n",
       "      <td>9</td>\n",
       "      <td>1811200003</td>\n",
       "      <td>Desain Komunikasi Visual</td>\n",
       "      <td>Female</td>\n",
       "      <td>DIY</td>\n",
       "      <td>SMA</td>\n",
       "      <td>SMA Negeri 5 Yogyakarta</td>\n",
       "      <td>International Baccaularate New</td>\n",
       "    </tr>\n",
       "    <tr>\n",
       "      <th>3</th>\n",
       "      <td>7</td>\n",
       "      <td>1811100004</td>\n",
       "      <td>Desain Produk</td>\n",
       "      <td>Male</td>\n",
       "      <td>SUMBAR</td>\n",
       "      <td>SMA</td>\n",
       "      <td>SMA Don Bosco Padang</td>\n",
       "      <td>International Baccaularate New</td>\n",
       "    </tr>\n",
       "    <tr>\n",
       "      <th>4</th>\n",
       "      <td>15</td>\n",
       "      <td>1811100122</td>\n",
       "      <td>Seni Musik</td>\n",
       "      <td>Female</td>\n",
       "      <td>JATENG</td>\n",
       "      <td>SMA</td>\n",
       "      <td>SMA Negeri 1 Klaten</td>\n",
       "      <td>Science</td>\n",
       "    </tr>\n",
       "  </tbody>\n",
       "</table>\n",
       "</div>"
      ],
      "text/plain": [
       "   student_id form_number                major_name  gender school_state  \\\n",
       "0           4  1811200001                 Manajemen  Female        SUMUT   \n",
       "1           7  1811200002                Arsitektur    Male       SUMBAR   \n",
       "2           9  1811200003  Desain Komunikasi Visual  Female          DIY   \n",
       "3           7  1811100004             Desain Produk    Male       SUMBAR   \n",
       "4          15  1811100122                Seni Musik  Female       JATENG   \n",
       "\n",
       "  school_prop                 school_name                 curriculum_name  \n",
       "0         SMA  SMA Negeri 1 Silima Pungga                           Other  \n",
       "1         SMA        SMA Don Bosco Padang  International Baccaularate New  \n",
       "2         SMA     SMA Negeri 5 Yogyakarta  International Baccaularate New  \n",
       "3         SMA        SMA Don Bosco Padang  International Baccaularate New  \n",
       "4         SMA         SMA Negeri 1 Klaten                         Science  "
      ]
     },
     "execution_count": 24,
     "metadata": {},
     "output_type": "execute_result"
    }
   ],
   "source": [
    "OA_master.head()"
   ]
  },
  {
   "cell_type": "markdown",
   "metadata": {},
   "source": [
    "# Dump to Pickle"
   ]
  },
  {
   "cell_type": "code",
   "execution_count": 25,
   "metadata": {},
   "outputs": [],
   "source": [
    "pickle.dump(OA_master, open(dump_path+'OA_master.pkl', 'wb'))"
   ]
  }
 ],
 "metadata": {
  "kernelspec": {
   "display_name": "Python 3",
   "language": "python",
   "name": "python3"
  },
  "language_info": {
   "codemirror_mode": {
    "name": "ipython",
    "version": 3
   },
   "file_extension": ".py",
   "mimetype": "text/x-python",
   "name": "python",
   "nbconvert_exporter": "python",
   "pygments_lexer": "ipython3",
   "version": "3.6.5"
  }
 },
 "nbformat": 4,
 "nbformat_minor": 2
}
