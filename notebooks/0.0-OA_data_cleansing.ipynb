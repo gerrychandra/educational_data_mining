{
 "cells": [
  {
   "cell_type": "markdown",
   "metadata": {},
   "source": [
    "# `WARNING`\n",
    "### DO NOT RERUN this notebook. It will cause an error since the input data is not available in the repository due to confidentiality reason."
   ]
  },
  {
   "cell_type": "code",
   "execution_count": 1,
   "metadata": {},
   "outputs": [],
   "source": [
    "in_path = '../data/raw/Data OA/'\n",
    "out_path = '../data/interim/OA_master.pkl'"
   ]
  },
  {
   "cell_type": "code",
   "execution_count": 2,
   "metadata": {},
   "outputs": [],
   "source": [
    "from os.path import dirname\n",
    "import os, sys, inspect\n",
    "\n",
    "currentdir = os.getcwd()\n",
    "parentdir = dirname(currentdir)\n",
    "\n",
    "sys.path.insert(0,parentdir)"
   ]
  },
  {
   "cell_type": "markdown",
   "metadata": {},
   "source": [
    "# Libs\n",
    "\n",
    "Here we import libraries needed for this notebook."
   ]
  },
  {
   "cell_type": "code",
   "execution_count": 3,
   "metadata": {},
   "outputs": [],
   "source": [
    "import warnings\n",
    "warnings.filterwarnings('ignore')\n",
    "\n",
    "import pandas as pd \n",
    "import matplotlib.pyplot as plt\n",
    "import seaborn as sns \n",
    "import pickle\n",
    "\n",
    "from src.utils import dump_to_pickle"
   ]
  },
  {
   "cell_type": "markdown",
   "metadata": {},
   "source": [
    "# Import Tables\n",
    "\n",
    "There are 5 excel files used from Data OA. Each file is imported below by first selecting the columns that will be used."
   ]
  },
  {
   "cell_type": "markdown",
   "metadata": {},
   "source": [
    "### Form Admission"
   ]
  },
  {
   "cell_type": "code",
   "execution_count": 4,
   "metadata": {},
   "outputs": [],
   "source": [
    "form_raw = pd.read_excel(in_path+'Form Admission.xls',\n",
    "                         usecols=[2,3,11],\n",
    "                         converters={'form_number':str})"
   ]
  },
  {
   "cell_type": "markdown",
   "metadata": {},
   "source": [
    "Because `form_number` will be used as key to link this dataset to other datasets later, we filter out the rows that don't have `form_number`."
   ]
  },
  {
   "cell_type": "code",
   "execution_count": 5,
   "metadata": {},
   "outputs": [],
   "source": [
    "#take rows contain form_number only \n",
    "form_master = form_raw[form_raw['form_number'].notnull()]"
   ]
  },
  {
   "cell_type": "markdown",
   "metadata": {},
   "source": [
    "### Student"
   ]
  },
  {
   "cell_type": "code",
   "execution_count": 6,
   "metadata": {},
   "outputs": [],
   "source": [
    "student_raw = pd.read_excel(in_path+'Student.xls',\n",
    "                              usecols=[0,7,15,18])"
   ]
  },
  {
   "cell_type": "markdown",
   "metadata": {},
   "source": [
    "We rename some columns for simplicity and to prevent columns with ambigous name later when joined to other datasets."
   ]
  },
  {
   "cell_type": "code",
   "execution_count": 7,
   "metadata": {},
   "outputs": [],
   "source": [
    "#rename column\n",
    "student_master = student_raw.rename(columns={\n",
    "    'id': 'student_id',\n",
    "    'high_school_id': 'school_id'\n",
    "})"
   ]
  },
  {
   "cell_type": "markdown",
   "metadata": {},
   "source": [
    "### Major"
   ]
  },
  {
   "cell_type": "code",
   "execution_count": 8,
   "metadata": {},
   "outputs": [],
   "source": [
    "major_raw = pd.read_excel(in_path+'Major.xls',\n",
    "                         usecols=[0,1,7],\n",
    "                         converters={'major_code':str})"
   ]
  },
  {
   "cell_type": "markdown",
   "metadata": {},
   "source": [
    "`id` is one example of column name that can be ambigious. That's why we need to rename it to make it clearer which id the column represents."
   ]
  },
  {
   "cell_type": "code",
   "execution_count": 9,
   "metadata": {},
   "outputs": [],
   "source": [
    "#rename column\n",
    "major_master = major_raw.rename(columns={\n",
    "    'id': 'major_id',\n",
    "    'major_code': 'major_code_oa',\n",
    "    'name': 'major_name_oa'\n",
    "})"
   ]
  },
  {
   "cell_type": "markdown",
   "metadata": {},
   "source": [
    "### Gender"
   ]
  },
  {
   "cell_type": "code",
   "execution_count": 10,
   "metadata": {},
   "outputs": [],
   "source": [
    "gender_raw = pd.read_excel(in_path+'Gender.xls',\n",
    "                          usecols=[1,3,4])"
   ]
  },
  {
   "cell_type": "code",
   "execution_count": 11,
   "metadata": {},
   "outputs": [],
   "source": [
    "gender_master = gender_raw.rename(columns={\n",
    "    'name': 'gender'\n",
    "})"
   ]
  },
  {
   "cell_type": "markdown",
   "metadata": {},
   "source": [
    "Since the table has two languages: English and Bahasa Indonesia, `language_code` is used to help selecting language description of gender id. Here we use English."
   ]
  },
  {
   "cell_type": "code",
   "execution_count": 12,
   "metadata": {},
   "outputs": [],
   "source": [
    "gender_master = gender_master[gender_master['language_code']=='en']\n",
    "gender_master.drop('language_code', axis=1, inplace=True)"
   ]
  },
  {
   "cell_type": "markdown",
   "metadata": {},
   "source": [
    "### School"
   ]
  },
  {
   "cell_type": "code",
   "execution_count": 13,
   "metadata": {},
   "outputs": [],
   "source": [
    "school_raw = pd.read_excel(in_path+'School Master.xls',\n",
    "                          usecols=[0,4,10,13])"
   ]
  },
  {
   "cell_type": "code",
   "execution_count": 14,
   "metadata": {},
   "outputs": [],
   "source": [
    "school_master = school_raw.rename(columns={\n",
    "    'id': 'school_id',\n",
    "    'STATE': 'school_state',\n",
    "    'PROPRIETORSHIP': 'school_prop',\n",
    "    'DESCR': 'school_name'\n",
    "})"
   ]
  },
  {
   "cell_type": "markdown",
   "metadata": {},
   "source": [
    "### Curriculum"
   ]
  },
  {
   "cell_type": "code",
   "execution_count": 15,
   "metadata": {
    "scrolled": true
   },
   "outputs": [],
   "source": [
    "curriculum_raw = pd.read_excel(in_path+'Curriculum.xls',\n",
    "                              usecols=[0,3])"
   ]
  },
  {
   "cell_type": "code",
   "execution_count": 16,
   "metadata": {},
   "outputs": [],
   "source": [
    "curriculum_master = curriculum_raw.rename(columns={\n",
    "    'id': 'curriculum_id',\n",
    "    'name': 'curriculum_name'\n",
    "})"
   ]
  },
  {
   "cell_type": "markdown",
   "metadata": {},
   "source": [
    "# Merge Tables\n",
    "All of the 6 tables imported above will be merged together using the corresponding id as the key."
   ]
  },
  {
   "cell_type": "code",
   "execution_count": 17,
   "metadata": {},
   "outputs": [],
   "source": [
    "#merge Form with Student\n",
    "OA_master = form_master.merge(student_master, how='left', on='student_id')\n",
    "OA_master.drop('student_id', axis=1, inplace=True)"
   ]
  },
  {
   "cell_type": "code",
   "execution_count": 18,
   "metadata": {},
   "outputs": [],
   "source": [
    "#merge with Major\n",
    "OA_master = OA_master.merge(major_master, how='left', on='major_id')\n",
    "OA_master.drop('major_id', axis=1, inplace=True)"
   ]
  },
  {
   "cell_type": "code",
   "execution_count": 19,
   "metadata": {},
   "outputs": [],
   "source": [
    "#merge with Gender\n",
    "OA_master = OA_master.merge(gender_master, how='left', on='gender_id')\n",
    "OA_master.drop('gender_id', axis=1, inplace=True)"
   ]
  },
  {
   "cell_type": "code",
   "execution_count": 20,
   "metadata": {},
   "outputs": [],
   "source": [
    "#merge with School\n",
    "OA_master = OA_master.merge(school_master, how='left', on='school_id')\n",
    "OA_master.drop('school_id', axis=1, inplace=True)"
   ]
  },
  {
   "cell_type": "code",
   "execution_count": 21,
   "metadata": {},
   "outputs": [],
   "source": [
    "#merge with Curriculum\n",
    "OA_master = OA_master.merge(curriculum_master, how='left', on='curriculum_id')\n",
    "OA_master.drop('curriculum_id', axis=1, inplace=True)"
   ]
  },
  {
   "cell_type": "code",
   "execution_count": 22,
   "metadata": {
    "scrolled": true
   },
   "outputs": [
    {
     "data": {
      "text/html": [
       "<div>\n",
       "<style scoped>\n",
       "    .dataframe tbody tr th:only-of-type {\n",
       "        vertical-align: middle;\n",
       "    }\n",
       "\n",
       "    .dataframe tbody tr th {\n",
       "        vertical-align: top;\n",
       "    }\n",
       "\n",
       "    .dataframe thead th {\n",
       "        text-align: right;\n",
       "    }\n",
       "</style>\n",
       "<table border=\"1\" class=\"dataframe\">\n",
       "  <thead>\n",
       "    <tr style=\"text-align: right;\">\n",
       "      <th></th>\n",
       "      <th>form_number</th>\n",
       "      <th>major_code_oa</th>\n",
       "      <th>major_name_oa</th>\n",
       "      <th>gender</th>\n",
       "      <th>school_state</th>\n",
       "      <th>school_prop</th>\n",
       "      <th>school_name</th>\n",
       "      <th>curriculum_name</th>\n",
       "    </tr>\n",
       "  </thead>\n",
       "  <tbody>\n",
       "    <tr>\n",
       "      <td>0</td>\n",
       "      <td>1811200001</td>\n",
       "      <td>01011</td>\n",
       "      <td>Manajemen</td>\n",
       "      <td>Female</td>\n",
       "      <td>SUMUT</td>\n",
       "      <td>SMA</td>\n",
       "      <td>SMA Negeri 1 Silima Pungga</td>\n",
       "      <td>Other</td>\n",
       "    </tr>\n",
       "    <tr>\n",
       "      <td>1</td>\n",
       "      <td>1811200002</td>\n",
       "      <td>02022</td>\n",
       "      <td>Arsitektur</td>\n",
       "      <td>Male</td>\n",
       "      <td>SUMBAR</td>\n",
       "      <td>SMA</td>\n",
       "      <td>SMA Don Bosco Padang</td>\n",
       "      <td>International Baccaularate New</td>\n",
       "    </tr>\n",
       "    <tr>\n",
       "      <td>2</td>\n",
       "      <td>1811200003</td>\n",
       "      <td>02023</td>\n",
       "      <td>Desain Komunikasi Visual</td>\n",
       "      <td>Female</td>\n",
       "      <td>DIY</td>\n",
       "      <td>SMA</td>\n",
       "      <td>SMA Negeri 5 Yogyakarta</td>\n",
       "      <td>International Baccaularate New</td>\n",
       "    </tr>\n",
       "    <tr>\n",
       "      <td>3</td>\n",
       "      <td>1811100004</td>\n",
       "      <td>02025</td>\n",
       "      <td>Desain Produk</td>\n",
       "      <td>Male</td>\n",
       "      <td>SUMBAR</td>\n",
       "      <td>SMA</td>\n",
       "      <td>SMA Don Bosco Padang</td>\n",
       "      <td>International Baccaularate New</td>\n",
       "    </tr>\n",
       "    <tr>\n",
       "      <td>4</td>\n",
       "      <td>1811100122</td>\n",
       "      <td>06061</td>\n",
       "      <td>Seni Musik</td>\n",
       "      <td>Female</td>\n",
       "      <td>JATENG</td>\n",
       "      <td>SMA</td>\n",
       "      <td>SMA Negeri 1 Klaten</td>\n",
       "      <td>Science</td>\n",
       "    </tr>\n",
       "  </tbody>\n",
       "</table>\n",
       "</div>"
      ],
      "text/plain": [
       "  form_number major_code_oa             major_name_oa  gender school_state  \\\n",
       "0  1811200001         01011                 Manajemen  Female        SUMUT   \n",
       "1  1811200002         02022                Arsitektur    Male       SUMBAR   \n",
       "2  1811200003         02023  Desain Komunikasi Visual  Female          DIY   \n",
       "3  1811100004         02025             Desain Produk    Male       SUMBAR   \n",
       "4  1811100122         06061                Seni Musik  Female       JATENG   \n",
       "\n",
       "  school_prop                 school_name                 curriculum_name  \n",
       "0         SMA  SMA Negeri 1 Silima Pungga                           Other  \n",
       "1         SMA        SMA Don Bosco Padang  International Baccaularate New  \n",
       "2         SMA     SMA Negeri 5 Yogyakarta  International Baccaularate New  \n",
       "3         SMA        SMA Don Bosco Padang  International Baccaularate New  \n",
       "4         SMA         SMA Negeri 1 Klaten                         Science  "
      ]
     },
     "execution_count": 22,
     "metadata": {},
     "output_type": "execute_result"
    }
   ],
   "source": [
    "OA_master.head()"
   ]
  },
  {
   "cell_type": "code",
   "execution_count": 23,
   "metadata": {},
   "outputs": [
    {
     "data": {
      "text/plain": [
       "5543"
      ]
     },
     "execution_count": 23,
     "metadata": {},
     "output_type": "execute_result"
    }
   ],
   "source": [
    "OA_master.form_number.nunique()"
   ]
  },
  {
   "cell_type": "markdown",
   "metadata": {},
   "source": [
    "# Cleaning"
   ]
  },
  {
   "cell_type": "markdown",
   "metadata": {},
   "source": [
    "## School Prop Grouping\n",
    "The main goal of this grouping is to remove redundant categories. PUBL, PRIV and SMAK categories can be united to other corresponding categories. After this grouping, `school_prop` categories will be shrinked to SMA, SMK, PKBM, HS, MA, LN only"
   ]
  },
  {
   "cell_type": "code",
   "execution_count": 24,
   "metadata": {},
   "outputs": [
    {
     "data": {
      "text/plain": [
       "Text(0.5, 1.0, 'School Prop Count (BEFORE)')"
      ]
     },
     "execution_count": 24,
     "metadata": {},
     "output_type": "execute_result"
    },
    {
     "data": {
      "image/png": "[encoded data removed]",
      "text/plain": [
       "<Figure size 432x288 with 1 Axes>"
      ]
     },
     "metadata": {
      "needs_background": "light"
     },
     "output_type": "display_data"
    }
   ],
   "source": [
    "sns.countplot(OA_master['school_prop'])\n",
    "plt.title('School Prop Count (BEFORE)')"
   ]
  },
  {
   "cell_type": "markdown",
   "metadata": {},
   "source": [
    "### Unite SMAK to SMA\n",
    "Here we unite SMAK to SMA category.\n",
    "\n",
    "This is done using `school_name` as reference. First step is to find every school name that is included in SMAK category. Then, the school proprietorship will be converted to SMA. "
   ]
  },
  {
   "cell_type": "code",
   "execution_count": 25,
   "metadata": {},
   "outputs": [],
   "source": [
    "smak_sch_name = OA_master[OA_master['school_prop']=='SMAK'].school_name.unique()"
   ]
  },
  {
   "cell_type": "code",
   "execution_count": 26,
   "metadata": {},
   "outputs": [],
   "source": [
    "OA_master.loc[OA_master.school_name.isin(smak_sch_name), 'school_prop'] = 'SMA'"
   ]
  },
  {
   "cell_type": "markdown",
   "metadata": {},
   "source": [
    "### Unite PUBL category\n",
    "PUBL or public category is converted to corresponding categories (SMA/SMAK/LN) dependind on the school name. For instance, if the school name starts with SMK, then it will be converted to SMK category."
   ]
  },
  {
   "cell_type": "code",
   "execution_count": 27,
   "metadata": {},
   "outputs": [],
   "source": [
    "publ_sch_name = OA_master[OA_master['school_prop']=='PUBL'].school_name.unique()\n",
    "publ_to_misc = ['SEKOLAH INDONESIA KUALA LUMPUR', 'SMK RK BINTANG TIMUR P.SIANTAR']\n",
    "publ_to_SMA = [sch for sch in publ_sch_name if sch not in publ_to_misc]"
   ]
  },
  {
   "cell_type": "code",
   "execution_count": 28,
   "metadata": {},
   "outputs": [],
   "source": [
    "OA_master.loc[OA_master.school_name.isin(publ_to_SMA), 'school_prop'] = 'SMA'\n",
    "OA_master.loc[OA_master.school_name=='SEKOLAH INDONESIA KUALA LUMPUR', 'school_prop'] = 'LN'\n",
    "OA_master.loc[OA_master.school_name=='SMK RK BINTANG TIMUR P.SIANTAR', 'school_prop'] = 'SMK'"
   ]
  },
  {
   "cell_type": "markdown",
   "metadata": {},
   "source": [
    "### Unite PRIV category\n",
    "This step is similar to the previous uniting PUBL category."
   ]
  },
  {
   "cell_type": "code",
   "execution_count": 29,
   "metadata": {},
   "outputs": [],
   "source": [
    "priv_sch_name = OA_master[OA_master['school_prop']=='PRIV'].school_name.unique()\n",
    "priv_to_misc = ['SMK Bakti, Pangkalpinang', 'NEW ZEALAND INT SCH']\n",
    "priv_to_SMA = [sch for sch in priv_sch_name if sch not in priv_to_misc]"
   ]
  },
  {
   "cell_type": "code",
   "execution_count": 30,
   "metadata": {},
   "outputs": [],
   "source": [
    "OA_master.loc[OA_master.school_name.isin(priv_to_SMA), 'school_prop'] = 'SMA'\n",
    "OA_master.loc[OA_master.school_name=='NEW ZEALAND INT SCH', 'school_prop'] = 'LN'\n",
    "OA_master.loc[OA_master.school_name=='SMK Bakti, Pangkalpinang', 'school_prop'] = 'SMK'"
   ]
  },
  {
   "cell_type": "markdown",
   "metadata": {},
   "source": [
    "Here is the categories after grouping finished."
   ]
  },
  {
   "cell_type": "code",
   "execution_count": 31,
   "metadata": {},
   "outputs": [
    {
     "data": {
      "text/plain": [
       "Text(0.5, 1.0, 'School Prop Count (AFTER)')"
      ]
     },
     "execution_count": 31,
     "metadata": {},
     "output_type": "execute_result"
    },
    {
     "data": {
      "image/png": "[encoded data removed]",
      "text/plain": [
       "<Figure size 432x288 with 1 Axes>"
      ]
     },
     "metadata": {
      "needs_background": "light"
     },
     "output_type": "display_data"
    }
   ],
   "source": [
    "sns.countplot(OA_master['school_prop'])\n",
    "plt.title('School Prop Count (AFTER)')"
   ]
  },
  {
   "cell_type": "markdown",
   "metadata": {},
   "source": [
    "## School State\n",
    "There are 2 main goals in this step: \n",
    "- Impute ' ' states. There are missing values but not represented by NaN nor NULL, instead it's a blank string.\n",
    "- Grouping States to Geographical Units. We do feature extraction here to group state into larger category."
   ]
  },
  {
   "cell_type": "markdown",
   "metadata": {},
   "source": [
    "Here we sync up LN category in the `school_prop` and `school_state`."
   ]
  },
  {
   "cell_type": "code",
   "execution_count": 32,
   "metadata": {},
   "outputs": [],
   "source": [
    "#syncing LN school name in school_prop and school_state\n",
    "LN_sch_name = OA_master[OA_master['school_prop']=='LN'].school_name.unique()\n",
    "\n",
    "OA_master.loc[OA_master.school_name.isin(LN_sch_name), 'school_state'] = 'LN'"
   ]
  },
  {
   "cell_type": "markdown",
   "metadata": {},
   "source": [
    "### Impute ' ' states\n",
    "Time to impute the blank string.\n",
    "\n",
    "It's done manually using the school name as the reference. If the school name represents certain location or district, we can easily know which state it is."
   ]
  },
  {
   "cell_type": "code",
   "execution_count": 33,
   "metadata": {},
   "outputs": [
    {
     "data": {
      "text/plain": [
       "array(['SMA Negeri 8 Surakarta', 'SMAN 1, SIBOLGA', 'SMA YAD Sukabumi',\n",
       "       'SMA Malidar', 'SMA Djuwita Kalideres', 'PKBM CAHAYA BANGSA',\n",
       "       'SMAN 2 Purwodadi Grobogan', 'SMAK ANALISIS KIMIA',\n",
       "       'PKBM BANYUANYAR', 'SMA Muhammadiyah 1',\n",
       "       'SMK Bakti, Pangkalpinang', 'PKBM Negeri Kebon Jeruk',\n",
       "       'SMA Negeri 1 jailolo', 'SMA Negeri 1 Tualang', 'SMAN 1, Cianjur',\n",
       "       'PKBM PANBI', 'SMA Seminari St.Berkhmans Toda',\n",
       "       'SMK NEGERI I TROWULAN', 'SMK PGRI Subang', 'SMK PGRI 4 NGAWI',\n",
       "       'SMA Negeri 4, Medan', 'SMAN 15 Jakarta Utara', 'SMAN 2 Riau',\n",
       "       'SMK Negeri 7 Samarinda', 'SMAN 1 Bangil', 'SMA KRISTEN SHEKINAH'],\n",
       "      dtype=object)"
      ]
     },
     "execution_count": 33,
     "metadata": {},
     "output_type": "execute_result"
    }
   ],
   "source": [
    "OA_master[OA_master['school_state']==' '].school_name.unique()"
   ]
  },
  {
   "cell_type": "code",
   "execution_count": 34,
   "metadata": {},
   "outputs": [],
   "source": [
    "#create dictionary between school_name and possible school state\n",
    "dict_sch_state = {\n",
    "    'DKIJKT': ['SMA Djuwita Kalideres', 'PKBM CAHAYA BANGSA', 'Disciples For Christ Int. Sch', \n",
    "                'PKBM Negeri Kebon Jeruk', 'PKBM PANBI', 'SMAN 15 Jakarta Utara'],\n",
    "    'JATENG': ['SMA Negeri 8 Surakarta', 'SMAN 2 Purwodadi Grobogan', 'PKBM BANYUANYAR', 'SMA KRISTEN SHEKINAH'],\n",
    "    'JABAR': ['SMA YAD Sukabumi', 'SMA Malidar', 'SMAK ANALISIS KIMIA', 'SMAN 1, Cianjur', 'SMK PGRI Subang'],\n",
    "    'JATIM': ['SMK NEGERI I TROWULAN', 'SMK PGRI 4 NGAWI', 'SMAN 1 Bangil'],\n",
    "    'SUMUT': ['SMAN 1, SIBOLGA', 'SMA Negeri 4, Medan'],\n",
    "    'DIY': ['SMA Muhammadiyah 1'],\n",
    "    'BANGKA': ['SMK Bakti, Pangkalpinang'],\n",
    "    'MALUTA': ['SMA Negeri 1 jailolo'],\n",
    "    'RIAU': ['SMA Negeri 1 Tualang', 'SMAN 2 Riau'],\n",
    "    'NTT': ['SMA Seminari St.Berkhmans Toda'],\n",
    "    'KALTIM': ['SMK Negeri 7 Samarinda']\n",
    "}"
   ]
  },
  {
   "cell_type": "code",
   "execution_count": 35,
   "metadata": {},
   "outputs": [],
   "source": [
    "#impute ' ' state based on school_name\n",
    "for state, sch_name in dict_sch_state.items():\n",
    "    OA_master.loc[OA_master.school_name.isin(sch_name), 'school_state'] = state"
   ]
  },
  {
   "cell_type": "code",
   "execution_count": 36,
   "metadata": {},
   "outputs": [
    {
     "data": {
      "text/plain": [
       "0"
      ]
     },
     "execution_count": 36,
     "metadata": {},
     "output_type": "execute_result"
    }
   ],
   "source": [
    "#check if any ' ' states left\n",
    "len(OA_master[OA_master['school_state']==' '])"
   ]
  },
  {
   "cell_type": "markdown",
   "metadata": {},
   "source": [
    "### Grouping States to Geo Units\n",
    "Here the states will be grouped into larger category, which is their geographical units."
   ]
  },
  {
   "cell_type": "code",
   "execution_count": 37,
   "metadata": {},
   "outputs": [
    {
     "data": {
      "text/plain": [
       "array(['SUMUT', 'SUMBAR', 'DIY', 'JATENG', 'DKIJKT', 'JABAR', nan, 'ACEH',\n",
       "       'MALUKU', 'LAMPUN', 'JATIM', 'NTT', 'SUMSEL', 'RIAU', 'BANTEN',\n",
       "       'BALI', 'KALBAR', 'KALTGH', 'SULSEL', 'KALSEL', 'KALUT', 'SULBAR',\n",
       "       'SULUT', 'GORONT', 'NTB', 'PAPUA', 'LN', 'BENGKU', 'SULTGH',\n",
       "       'JAMBI', 'MALUTA', 'KALTIM', 'BANGKA', 'PAPBRT', 'PEKANB',\n",
       "       'SULTGR'], dtype=object)"
      ]
     },
     "execution_count": 37,
     "metadata": {},
     "output_type": "execute_result"
    }
   ],
   "source": [
    "OA_master.school_state.unique()"
   ]
  },
  {
   "cell_type": "code",
   "execution_count": 38,
   "metadata": {},
   "outputs": [],
   "source": [
    "dict_reg = {\n",
    "    'JAV': ['DIY', 'DKIJKT', 'BANTEN', 'JATENG',  'JABAR', 'JATIM'],\n",
    "    'SUM': ['SUMUT', 'SUMBAR', 'ACEH', 'LAMPUN', 'SUMSEL', 'RIAU', 'BENGKU', 'JAMBI', 'BANGKA', 'PEKANB'],\n",
    "    'KAL': ['KALBAR', 'KALTGH', 'KALSEL', 'KALUT', 'KALTIM'],\n",
    "    'SUL': ['SULSEL', 'SULBAR', 'SULUT', 'SULTGH', 'SULTGR', 'GORONT'],\n",
    "    'SUN': ['NTT', 'NTB', 'BALI'],\n",
    "    'MAL': ['MALUKU', 'MALUTA'],\n",
    "    'PAP': ['PAPBRT', 'PAPUA'],\n",
    "    'LN': ['LN']\n",
    "}"
   ]
  },
  {
   "cell_type": "code",
   "execution_count": 39,
   "metadata": {},
   "outputs": [],
   "source": [
    "OA_master['school_geo_unit'] = None\n",
    "\n",
    "for geo_unit, state in dict_reg.items():\n",
    "    OA_master.loc[OA_master.school_state.isin(state), 'school_geo_unit'] = geo_unit"
   ]
  },
  {
   "cell_type": "markdown",
   "metadata": {},
   "source": [
    "Here we plot the `countplot` of newly created column: the school geographical unit"
   ]
  },
  {
   "cell_type": "code",
   "execution_count": 40,
   "metadata": {},
   "outputs": [
    {
     "data": {
      "text/plain": [
       "<matplotlib.axes._subplots.AxesSubplot at 0x1a1d51de10>"
      ]
     },
     "execution_count": 40,
     "metadata": {},
     "output_type": "execute_result"
    },
    {
     "data": {
      "image/png": "[encoded data removed]",
      "text/plain": [
       "<Figure size 432x288 with 1 Axes>"
      ]
     },
     "metadata": {
      "needs_background": "light"
     },
     "output_type": "display_data"
    }
   ],
   "source": [
    "sns.countplot(OA_master.school_geo_unit)"
   ]
  },
  {
   "cell_type": "markdown",
   "metadata": {},
   "source": [
    "We rearrange column just for tidiness."
   ]
  },
  {
   "cell_type": "code",
   "execution_count": 41,
   "metadata": {},
   "outputs": [],
   "source": [
    "rearr_cols = [\n",
    "    'form_number',\n",
    "    'major_code_oa',\n",
    "    'major_name_oa',\n",
    "    'gender',\n",
    "    'school_prop',\n",
    "    'school_name',\n",
    "    'school_state',\n",
    "    'school_geo_unit',\n",
    "    'curriculum_name'\n",
    "]"
   ]
  },
  {
   "cell_type": "code",
   "execution_count": 42,
   "metadata": {},
   "outputs": [],
   "source": [
    "OA_master = OA_master[rearr_cols]"
   ]
  },
  {
   "cell_type": "code",
   "execution_count": 43,
   "metadata": {},
   "outputs": [
    {
     "data": {
      "text/html": [
       "<div>\n",
       "<style scoped>\n",
       "    .dataframe tbody tr th:only-of-type {\n",
       "        vertical-align: middle;\n",
       "    }\n",
       "\n",
       "    .dataframe tbody tr th {\n",
       "        vertical-align: top;\n",
       "    }\n",
       "\n",
       "    .dataframe thead th {\n",
       "        text-align: right;\n",
       "    }\n",
       "</style>\n",
       "<table border=\"1\" class=\"dataframe\">\n",
       "  <thead>\n",
       "    <tr style=\"text-align: right;\">\n",
       "      <th></th>\n",
       "      <th>form_number</th>\n",
       "      <th>major_code_oa</th>\n",
       "      <th>major_name_oa</th>\n",
       "      <th>gender</th>\n",
       "      <th>school_prop</th>\n",
       "      <th>school_name</th>\n",
       "      <th>school_state</th>\n",
       "      <th>school_geo_unit</th>\n",
       "      <th>curriculum_name</th>\n",
       "    </tr>\n",
       "  </thead>\n",
       "  <tbody>\n",
       "    <tr>\n",
       "      <td>0</td>\n",
       "      <td>1811200001</td>\n",
       "      <td>01011</td>\n",
       "      <td>Manajemen</td>\n",
       "      <td>Female</td>\n",
       "      <td>SMA</td>\n",
       "      <td>SMA Negeri 1 Silima Pungga</td>\n",
       "      <td>SUMUT</td>\n",
       "      <td>SUM</td>\n",
       "      <td>Other</td>\n",
       "    </tr>\n",
       "    <tr>\n",
       "      <td>1</td>\n",
       "      <td>1811200002</td>\n",
       "      <td>02022</td>\n",
       "      <td>Arsitektur</td>\n",
       "      <td>Male</td>\n",
       "      <td>SMA</td>\n",
       "      <td>SMA Don Bosco Padang</td>\n",
       "      <td>SUMBAR</td>\n",
       "      <td>SUM</td>\n",
       "      <td>International Baccaularate New</td>\n",
       "    </tr>\n",
       "    <tr>\n",
       "      <td>2</td>\n",
       "      <td>1811200003</td>\n",
       "      <td>02023</td>\n",
       "      <td>Desain Komunikasi Visual</td>\n",
       "      <td>Female</td>\n",
       "      <td>SMA</td>\n",
       "      <td>SMA Negeri 5 Yogyakarta</td>\n",
       "      <td>DIY</td>\n",
       "      <td>JAV</td>\n",
       "      <td>International Baccaularate New</td>\n",
       "    </tr>\n",
       "  </tbody>\n",
       "</table>\n",
       "</div>"
      ],
      "text/plain": [
       "  form_number major_code_oa             major_name_oa  gender school_prop  \\\n",
       "0  1811200001         01011                 Manajemen  Female         SMA   \n",
       "1  1811200002         02022                Arsitektur    Male         SMA   \n",
       "2  1811200003         02023  Desain Komunikasi Visual  Female         SMA   \n",
       "\n",
       "                  school_name school_state school_geo_unit  \\\n",
       "0  SMA Negeri 1 Silima Pungga        SUMUT             SUM   \n",
       "1        SMA Don Bosco Padang       SUMBAR             SUM   \n",
       "2     SMA Negeri 5 Yogyakarta          DIY             JAV   \n",
       "\n",
       "                  curriculum_name  \n",
       "0                           Other  \n",
       "1  International Baccaularate New  \n",
       "2  International Baccaularate New  "
      ]
     },
     "execution_count": 43,
     "metadata": {},
     "output_type": "execute_result"
    }
   ],
   "source": [
    "OA_master.head(3)"
   ]
  },
  {
   "cell_type": "markdown",
   "metadata": {},
   "source": [
    "# Dump to Pickle"
   ]
  },
  {
   "cell_type": "code",
   "execution_count": 44,
   "metadata": {},
   "outputs": [],
   "source": [
    "dump_to_pickle(OA_master, out_path)"
   ]
  }
 ],
 "metadata": {
  "kernelspec": {
   "display_name": "Python 3",
   "language": "python",
   "name": "python3"
  },
  "language_info": {
   "codemirror_mode": {
    "name": "ipython",
    "version": 3
   },
   "file_extension": ".py",
   "mimetype": "text/x-python",
   "name": "python",
   "nbconvert_exporter": "python",
   "pygments_lexer": "ipython3",
   "version": "3.7.4"
  }
 },
 "nbformat": 4,
 "nbformat_minor": 2
}
