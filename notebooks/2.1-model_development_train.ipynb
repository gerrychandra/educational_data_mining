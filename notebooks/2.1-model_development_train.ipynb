{
 "cells": [
  {
   "cell_type": "code",
   "execution_count": 1,
   "metadata": {},
   "outputs": [],
   "source": [
    "in_path = \"../data/processed/data_model_master.pkl\"\n",
    "out_model_path = \"../model/\"\n",
    "out_eval_path = \"../data/evaluation/\""
   ]
  },
  {
   "cell_type": "code",
   "execution_count": 2,
   "metadata": {},
   "outputs": [],
   "source": [
    "from os.path import dirname\n",
    "import os, sys, inspect\n",
    "\n",
    "currentdir = os.getcwd()\n",
    "parentdir = dirname(currentdir)\n",
    "\n",
    "sys.path.insert(0,parentdir)"
   ]
  },
  {
   "cell_type": "markdown",
   "metadata": {},
   "source": [
    "# Libs"
   ]
  },
  {
   "cell_type": "code",
   "execution_count": 3,
   "metadata": {},
   "outputs": [],
   "source": [
    "import warnings\n",
    "warnings.filterwarnings('ignore')"
   ]
  },
  {
   "cell_type": "code",
   "execution_count": 4,
   "metadata": {},
   "outputs": [],
   "source": [
    "import pandas as pd \n",
    "import numpy as np \n",
    "\n",
    "import matplotlib.pyplot as plt \n",
    "import seaborn as sns \n",
    "\n",
    "from sklearn.model_selection import train_test_split\n",
    "from imblearn.over_sampling import SMOTE\n",
    "\n",
    "from src.utils import dump_to_pickle\n",
    "from src.evaluate import create_eval_df, plot_feature_importance"
   ]
  },
  {
   "cell_type": "code",
   "execution_count": 5,
   "metadata": {},
   "outputs": [],
   "source": [
    "pd.set_option('display.max_rows', 100)\n",
    "pd.set_option('display.max_columns', 100)"
   ]
  },
  {
   "cell_type": "markdown",
   "metadata": {},
   "source": [
    "# Load Data"
   ]
  },
  {
   "cell_type": "code",
   "execution_count": 53,
   "metadata": {},
   "outputs": [],
   "source": [
    "data = pd.read_pickle(in_path)"
   ]
  },
  {
   "cell_type": "code",
   "execution_count": 54,
   "metadata": {
    "scrolled": true
   },
   "outputs": [
    {
     "data": {
      "text/html": [
       "<div>\n",
       "<style scoped>\n",
       "    .dataframe tbody tr th:only-of-type {\n",
       "        vertical-align: middle;\n",
       "    }\n",
       "\n",
       "    .dataframe tbody tr th {\n",
       "        vertical-align: top;\n",
       "    }\n",
       "\n",
       "    .dataframe thead th {\n",
       "        text-align: right;\n",
       "    }\n",
       "</style>\n",
       "<table border=\"1\" class=\"dataframe\">\n",
       "  <thead>\n",
       "    <tr style=\"text-align: right;\">\n",
       "      <th></th>\n",
       "      <th>hs_eng</th>\n",
       "      <th>hs_math</th>\n",
       "      <th>hs_bio</th>\n",
       "      <th>hs_chem</th>\n",
       "      <th>hs_phy</th>\n",
       "      <th>hs_econ</th>\n",
       "      <th>hs_geo</th>\n",
       "      <th>hs_soc</th>\n",
       "      <th>hs_final</th>\n",
       "      <th>major_name</th>\n",
       "      <th>school_prop</th>\n",
       "      <th>school_geo_unit</th>\n",
       "      <th>school_state</th>\n",
       "      <th>faculty</th>\n",
       "      <th>fail</th>\n",
       "    </tr>\n",
       "  </thead>\n",
       "  <tbody>\n",
       "    <tr>\n",
       "      <td>0</td>\n",
       "      <td>-1.048565</td>\n",
       "      <td>-0.848793</td>\n",
       "      <td>-1.031378</td>\n",
       "      <td>-1.030655</td>\n",
       "      <td>-1.030533</td>\n",
       "      <td>1.223719</td>\n",
       "      <td>0.889068</td>\n",
       "      <td>1.019979</td>\n",
       "      <td>-0.152911</td>\n",
       "      <td>14</td>\n",
       "      <td>4</td>\n",
       "      <td>6</td>\n",
       "      <td>33</td>\n",
       "      <td>0</td>\n",
       "      <td>0</td>\n",
       "    </tr>\n",
       "    <tr>\n",
       "      <td>1</td>\n",
       "      <td>-0.451131</td>\n",
       "      <td>-1.541255</td>\n",
       "      <td>-1.031378</td>\n",
       "      <td>-1.030655</td>\n",
       "      <td>-1.030533</td>\n",
       "      <td>1.041207</td>\n",
       "      <td>1.045342</td>\n",
       "      <td>0.945211</td>\n",
       "      <td>-1.307819</td>\n",
       "      <td>14</td>\n",
       "      <td>4</td>\n",
       "      <td>0</td>\n",
       "      <td>7</td>\n",
       "      <td>0</td>\n",
       "      <td>1</td>\n",
       "    </tr>\n",
       "    <tr>\n",
       "      <td>2</td>\n",
       "      <td>-1.446854</td>\n",
       "      <td>-1.310434</td>\n",
       "      <td>-1.031378</td>\n",
       "      <td>-1.030655</td>\n",
       "      <td>-1.030533</td>\n",
       "      <td>1.047501</td>\n",
       "      <td>0.982833</td>\n",
       "      <td>1.094747</td>\n",
       "      <td>-0.962537</td>\n",
       "      <td>14</td>\n",
       "      <td>4</td>\n",
       "      <td>7</td>\n",
       "      <td>21</td>\n",
       "      <td>0</td>\n",
       "      <td>0</td>\n",
       "    </tr>\n",
       "    <tr>\n",
       "      <td>3</td>\n",
       "      <td>0.146302</td>\n",
       "      <td>0.795803</td>\n",
       "      <td>-1.031378</td>\n",
       "      <td>-1.030655</td>\n",
       "      <td>-1.030533</td>\n",
       "      <td>0.852403</td>\n",
       "      <td>0.989084</td>\n",
       "      <td>0.857982</td>\n",
       "      <td>-0.724412</td>\n",
       "      <td>14</td>\n",
       "      <td>4</td>\n",
       "      <td>0</td>\n",
       "      <td>9</td>\n",
       "      <td>0</td>\n",
       "      <td>0</td>\n",
       "    </tr>\n",
       "    <tr>\n",
       "      <td>4</td>\n",
       "      <td>0.544591</td>\n",
       "      <td>-0.012069</td>\n",
       "      <td>0.937199</td>\n",
       "      <td>0.833885</td>\n",
       "      <td>0.921328</td>\n",
       "      <td>-0.953830</td>\n",
       "      <td>-0.954972</td>\n",
       "      <td>-0.955133</td>\n",
       "      <td>0.585277</td>\n",
       "      <td>14</td>\n",
       "      <td>5</td>\n",
       "      <td>5</td>\n",
       "      <td>27</td>\n",
       "      <td>0</td>\n",
       "      <td>0</td>\n",
       "    </tr>\n",
       "  </tbody>\n",
       "</table>\n",
       "</div>"
      ],
      "text/plain": [
       "     hs_eng   hs_math    hs_bio   hs_chem    hs_phy   hs_econ    hs_geo  \\\n",
       "0 -1.048565 -0.848793 -1.031378 -1.030655 -1.030533  1.223719  0.889068   \n",
       "1 -0.451131 -1.541255 -1.031378 -1.030655 -1.030533  1.041207  1.045342   \n",
       "2 -1.446854 -1.310434 -1.031378 -1.030655 -1.030533  1.047501  0.982833   \n",
       "3  0.146302  0.795803 -1.031378 -1.030655 -1.030533  0.852403  0.989084   \n",
       "4  0.544591 -0.012069  0.937199  0.833885  0.921328 -0.953830 -0.954972   \n",
       "\n",
       "     hs_soc  hs_final  major_name  school_prop  school_geo_unit  school_state  \\\n",
       "0  1.019979 -0.152911          14            4                6            33   \n",
       "1  0.945211 -1.307819          14            4                0             7   \n",
       "2  1.094747 -0.962537          14            4                7            21   \n",
       "3  0.857982 -0.724412          14            4                0             9   \n",
       "4 -0.955133  0.585277          14            5                5            27   \n",
       "\n",
       "   faculty  fail  \n",
       "0        0     0  \n",
       "1        0     1  \n",
       "2        0     0  \n",
       "3        0     0  \n",
       "4        0     0  "
      ]
     },
     "execution_count": 54,
     "metadata": {},
     "output_type": "execute_result"
    }
   ],
   "source": [
    "data.head()"
   ]
  },
  {
   "cell_type": "code",
   "execution_count": 55,
   "metadata": {},
   "outputs": [],
   "source": [
    "data = data.drop([#'school_prop',\n",
    "                  #'school_geo_unit',\n",
    "                  #'school_state',\n",
    "                  'faculty'], axis=1)"
   ]
  },
  {
   "cell_type": "markdown",
   "metadata": {},
   "source": [
    "# Train-Test Split"
   ]
  },
  {
   "cell_type": "code",
   "execution_count": 56,
   "metadata": {},
   "outputs": [],
   "source": [
    "X = data.drop('fail', axis=1)\n",
    "y = data['fail']"
   ]
  },
  {
   "cell_type": "code",
   "execution_count": 57,
   "metadata": {},
   "outputs": [],
   "source": [
    "X_train, X_test, y_train, y_test = train_test_split(X, y, test_size=0.33, random_state=187)"
   ]
  },
  {
   "cell_type": "code",
   "execution_count": 58,
   "metadata": {},
   "outputs": [
    {
     "name": "stdout",
     "output_type": "stream",
     "text": [
      "Train Size:  1407\n",
      "Test Size:  694\n"
     ]
    }
   ],
   "source": [
    "print(\"Train Size: \", X_train.shape[0])\n",
    "print(\"Test Size: \", X_test.shape[0])"
   ]
  },
  {
   "cell_type": "code",
   "execution_count": 77,
   "metadata": {},
   "outputs": [
    {
     "data": {
      "text/html": [
       "<div>\n",
       "<style scoped>\n",
       "    .dataframe tbody tr th:only-of-type {\n",
       "        vertical-align: middle;\n",
       "    }\n",
       "\n",
       "    .dataframe tbody tr th {\n",
       "        vertical-align: top;\n",
       "    }\n",
       "\n",
       "    .dataframe thead th {\n",
       "        text-align: right;\n",
       "    }\n",
       "</style>\n",
       "<table border=\"1\" class=\"dataframe\">\n",
       "  <thead>\n",
       "    <tr style=\"text-align: right;\">\n",
       "      <th></th>\n",
       "      <th>hs_eng</th>\n",
       "      <th>hs_math</th>\n",
       "      <th>hs_bio</th>\n",
       "      <th>hs_chem</th>\n",
       "      <th>hs_phy</th>\n",
       "      <th>hs_econ</th>\n",
       "      <th>hs_geo</th>\n",
       "      <th>hs_soc</th>\n",
       "      <th>hs_final</th>\n",
       "      <th>major_name</th>\n",
       "      <th>school_prop</th>\n",
       "      <th>school_geo_unit</th>\n",
       "      <th>school_state</th>\n",
       "    </tr>\n",
       "  </thead>\n",
       "  <tbody>\n",
       "    <tr>\n",
       "      <td>180</td>\n",
       "      <td>-0.517513</td>\n",
       "      <td>0.016784</td>\n",
       "      <td>0.796149</td>\n",
       "      <td>0.957364</td>\n",
       "      <td>0.734845</td>\n",
       "      <td>-0.953830</td>\n",
       "      <td>-0.954972</td>\n",
       "      <td>-0.955133</td>\n",
       "      <td>-1.033975</td>\n",
       "      <td>14</td>\n",
       "      <td>4</td>\n",
       "      <td>0</td>\n",
       "      <td>6</td>\n",
       "    </tr>\n",
       "    <tr>\n",
       "      <td>1677</td>\n",
       "      <td>0.776926</td>\n",
       "      <td>-1.627812</td>\n",
       "      <td>0.808414</td>\n",
       "      <td>0.580752</td>\n",
       "      <td>0.380526</td>\n",
       "      <td>-0.953830</td>\n",
       "      <td>-0.954972</td>\n",
       "      <td>-0.955133</td>\n",
       "      <td>0.609089</td>\n",
       "      <td>12</td>\n",
       "      <td>4</td>\n",
       "      <td>0</td>\n",
       "      <td>6</td>\n",
       "    </tr>\n",
       "    <tr>\n",
       "      <td>569</td>\n",
       "      <td>1.772648</td>\n",
       "      <td>1.430559</td>\n",
       "      <td>1.151842</td>\n",
       "      <td>1.111713</td>\n",
       "      <td>1.207270</td>\n",
       "      <td>-0.953830</td>\n",
       "      <td>-0.954972</td>\n",
       "      <td>-0.955133</td>\n",
       "      <td>0.751965</td>\n",
       "      <td>24</td>\n",
       "      <td>4</td>\n",
       "      <td>0</td>\n",
       "      <td>6</td>\n",
       "    </tr>\n",
       "    <tr>\n",
       "      <td>222</td>\n",
       "      <td>0.079920</td>\n",
       "      <td>-0.589120</td>\n",
       "      <td>-1.031378</td>\n",
       "      <td>-1.030655</td>\n",
       "      <td>-1.030533</td>\n",
       "      <td>0.946805</td>\n",
       "      <td>1.057844</td>\n",
       "      <td>1.244282</td>\n",
       "      <td>-0.486287</td>\n",
       "      <td>14</td>\n",
       "      <td>5</td>\n",
       "      <td>0</td>\n",
       "      <td>7</td>\n",
       "    </tr>\n",
       "    <tr>\n",
       "      <td>595</td>\n",
       "      <td>0.876498</td>\n",
       "      <td>0.305309</td>\n",
       "      <td>1.176372</td>\n",
       "      <td>1.025278</td>\n",
       "      <td>1.002138</td>\n",
       "      <td>-0.953830</td>\n",
       "      <td>-0.954972</td>\n",
       "      <td>-0.955133</td>\n",
       "      <td>0.394777</td>\n",
       "      <td>2</td>\n",
       "      <td>4</td>\n",
       "      <td>0</td>\n",
       "      <td>7</td>\n",
       "    </tr>\n",
       "    <tr>\n",
       "      <td>...</td>\n",
       "      <td>...</td>\n",
       "      <td>...</td>\n",
       "      <td>...</td>\n",
       "      <td>...</td>\n",
       "      <td>...</td>\n",
       "      <td>...</td>\n",
       "      <td>...</td>\n",
       "      <td>...</td>\n",
       "      <td>...</td>\n",
       "      <td>...</td>\n",
       "      <td>...</td>\n",
       "      <td>...</td>\n",
       "      <td>...</td>\n",
       "    </tr>\n",
       "    <tr>\n",
       "      <td>2181</td>\n",
       "      <td>-0.451131</td>\n",
       "      <td>-0.444857</td>\n",
       "      <td>-1.031378</td>\n",
       "      <td>-1.030655</td>\n",
       "      <td>-1.030533</td>\n",
       "      <td>1.261480</td>\n",
       "      <td>1.026589</td>\n",
       "      <td>1.051132</td>\n",
       "      <td>-1.295912</td>\n",
       "      <td>18</td>\n",
       "      <td>4</td>\n",
       "      <td>0</td>\n",
       "      <td>7</td>\n",
       "    </tr>\n",
       "    <tr>\n",
       "      <td>2315</td>\n",
       "      <td>-0.451131</td>\n",
       "      <td>-0.358300</td>\n",
       "      <td>-1.031378</td>\n",
       "      <td>-1.030655</td>\n",
       "      <td>-1.030533</td>\n",
       "      <td>0.934218</td>\n",
       "      <td>0.951578</td>\n",
       "      <td>0.957673</td>\n",
       "      <td>-0.057661</td>\n",
       "      <td>18</td>\n",
       "      <td>4</td>\n",
       "      <td>6</td>\n",
       "      <td>0</td>\n",
       "    </tr>\n",
       "    <tr>\n",
       "      <td>1588</td>\n",
       "      <td>0.976070</td>\n",
       "      <td>0.882360</td>\n",
       "      <td>1.194770</td>\n",
       "      <td>1.148757</td>\n",
       "      <td>1.244566</td>\n",
       "      <td>-0.953830</td>\n",
       "      <td>-0.954972</td>\n",
       "      <td>-0.955133</td>\n",
       "      <td>1.109152</td>\n",
       "      <td>20</td>\n",
       "      <td>4</td>\n",
       "      <td>0</td>\n",
       "      <td>7</td>\n",
       "    </tr>\n",
       "    <tr>\n",
       "      <td>1371</td>\n",
       "      <td>-0.086033</td>\n",
       "      <td>0.276457</td>\n",
       "      <td>-1.031378</td>\n",
       "      <td>-1.030655</td>\n",
       "      <td>-1.030533</td>\n",
       "      <td>1.060088</td>\n",
       "      <td>1.076597</td>\n",
       "      <td>1.051132</td>\n",
       "      <td>-1.772163</td>\n",
       "      <td>8</td>\n",
       "      <td>4</td>\n",
       "      <td>0</td>\n",
       "      <td>9</td>\n",
       "    </tr>\n",
       "    <tr>\n",
       "      <td>1455</td>\n",
       "      <td>-0.517513</td>\n",
       "      <td>-0.127479</td>\n",
       "      <td>0.863608</td>\n",
       "      <td>0.827711</td>\n",
       "      <td>0.846735</td>\n",
       "      <td>-0.953830</td>\n",
       "      <td>-0.954972</td>\n",
       "      <td>-0.955133</td>\n",
       "      <td>-3.153289</td>\n",
       "      <td>8</td>\n",
       "      <td>4</td>\n",
       "      <td>0</td>\n",
       "      <td>7</td>\n",
       "    </tr>\n",
       "  </tbody>\n",
       "</table>\n",
       "<p>1407 rows × 13 columns</p>\n",
       "</div>"
      ],
      "text/plain": [
       "        hs_eng   hs_math    hs_bio   hs_chem    hs_phy   hs_econ    hs_geo  \\\n",
       "180  -0.517513  0.016784  0.796149  0.957364  0.734845 -0.953830 -0.954972   \n",
       "1677  0.776926 -1.627812  0.808414  0.580752  0.380526 -0.953830 -0.954972   \n",
       "569   1.772648  1.430559  1.151842  1.111713  1.207270 -0.953830 -0.954972   \n",
       "222   0.079920 -0.589120 -1.031378 -1.030655 -1.030533  0.946805  1.057844   \n",
       "595   0.876498  0.305309  1.176372  1.025278  1.002138 -0.953830 -0.954972   \n",
       "...        ...       ...       ...       ...       ...       ...       ...   \n",
       "2181 -0.451131 -0.444857 -1.031378 -1.030655 -1.030533  1.261480  1.026589   \n",
       "2315 -0.451131 -0.358300 -1.031378 -1.030655 -1.030533  0.934218  0.951578   \n",
       "1588  0.976070  0.882360  1.194770  1.148757  1.244566 -0.953830 -0.954972   \n",
       "1371 -0.086033  0.276457 -1.031378 -1.030655 -1.030533  1.060088  1.076597   \n",
       "1455 -0.517513 -0.127479  0.863608  0.827711  0.846735 -0.953830 -0.954972   \n",
       "\n",
       "        hs_soc  hs_final  major_name  school_prop  school_geo_unit  \\\n",
       "180  -0.955133 -1.033975          14            4                0   \n",
       "1677 -0.955133  0.609089          12            4                0   \n",
       "569  -0.955133  0.751965          24            4                0   \n",
       "222   1.244282 -0.486287          14            5                0   \n",
       "595  -0.955133  0.394777           2            4                0   \n",
       "...        ...       ...         ...          ...              ...   \n",
       "2181  1.051132 -1.295912          18            4                0   \n",
       "2315  0.957673 -0.057661          18            4                6   \n",
       "1588 -0.955133  1.109152          20            4                0   \n",
       "1371  1.051132 -1.772163           8            4                0   \n",
       "1455 -0.955133 -3.153289           8            4                0   \n",
       "\n",
       "      school_state  \n",
       "180              6  \n",
       "1677             6  \n",
       "569              6  \n",
       "222              7  \n",
       "595              7  \n",
       "...            ...  \n",
       "2181             7  \n",
       "2315             0  \n",
       "1588             7  \n",
       "1371             9  \n",
       "1455             7  \n",
       "\n",
       "[1407 rows x 13 columns]"
      ]
     },
     "execution_count": 77,
     "metadata": {},
     "output_type": "execute_result"
    }
   ],
   "source": [
    "X_train"
   ]
  },
  {
   "cell_type": "markdown",
   "metadata": {},
   "source": [
    "# Imbalance Resampling"
   ]
  },
  {
   "cell_type": "code",
   "execution_count": 59,
   "metadata": {},
   "outputs": [
    {
     "data": {
      "text/plain": [
       "0    0.900498\n",
       "1    0.099502\n",
       "Name: fail, dtype: float64"
      ]
     },
     "execution_count": 59,
     "metadata": {},
     "output_type": "execute_result"
    }
   ],
   "source": [
    "y_train.value_counts(normalize=True)"
   ]
  },
  {
   "cell_type": "code",
   "execution_count": 60,
   "metadata": {},
   "outputs": [],
   "source": [
    "target_ratio = 0.5\n",
    "\n",
    "sm = SMOTE(random_state=187,\n",
    "           ratio={\n",
    "               0:y_train.value_counts()[0],\n",
    "               1:int(y_train.value_counts()[0]*(target_ratio/(1-target_ratio)))\n",
    "           })"
   ]
  },
  {
   "cell_type": "code",
   "execution_count": 61,
   "metadata": {},
   "outputs": [],
   "source": [
    "X_train_upsampled, y_train_upsampled = sm.fit_sample(X_train, y_train)"
   ]
  },
  {
   "cell_type": "code",
   "execution_count": 62,
   "metadata": {},
   "outputs": [
    {
     "data": {
      "text/plain": [
       "0.5"
      ]
     },
     "execution_count": 62,
     "metadata": {},
     "output_type": "execute_result"
    }
   ],
   "source": [
    "sum(y_train_upsampled)/len(y_train_upsampled)"
   ]
  },
  {
   "cell_type": "markdown",
   "metadata": {},
   "source": [
    "# Logistic Regression"
   ]
  },
  {
   "cell_type": "code",
   "execution_count": 63,
   "metadata": {},
   "outputs": [],
   "source": [
    "from sklearn.linear_model import LogisticRegression"
   ]
  },
  {
   "cell_type": "code",
   "execution_count": 64,
   "metadata": {},
   "outputs": [],
   "source": [
    "log_model = LogisticRegression(random_state=100).fit(X_train_upsampled, y_train_upsampled)\n",
    "\n",
    "#save model\n",
    "#dump_to_pickle(log_model, out_model_path+'log_model.pkl')\n",
    "dump_to_pickle(log_model, out_model_path+'log_model_sch_info.pkl')"
   ]
  },
  {
   "cell_type": "code",
   "execution_count": 65,
   "metadata": {},
   "outputs": [],
   "source": [
    "log_train_pred = log_model.predict_proba(X_train)\n",
    "log_test_pred = log_model.predict_proba(X_test)"
   ]
  },
  {
   "cell_type": "code",
   "execution_count": 66,
   "metadata": {},
   "outputs": [],
   "source": [
    "log_eval_train, log_eval_test, log_eval_data = create_eval_df(log_train_pred, log_test_pred, y_train, y_test)\n",
    "\n",
    "#save eval data\n",
    "log_save_objs = log_eval_data, log_eval_train, log_eval_test\n",
    "#dump_to_pickle(log_save_objs, out_eval_path+'log_eval.pkl')\n",
    "dump_to_pickle(log_save_objs, out_eval_path+'log_eval_sch_info.pkl')\n"
   ]
  },
  {
   "cell_type": "markdown",
   "metadata": {},
   "source": [
    "# Random Forest "
   ]
  },
  {
   "cell_type": "code",
   "execution_count": 67,
   "metadata": {},
   "outputs": [],
   "source": [
    "from sklearn.ensemble import RandomForestClassifier"
   ]
  },
  {
   "cell_type": "code",
   "execution_count": 68,
   "metadata": {},
   "outputs": [],
   "source": [
    "RF_model = RandomForestClassifier(max_depth=3, random_state=100).fit(X_train_upsampled, y_train_upsampled)\n",
    "\n",
    "#save model\n",
    "#dump_to_pickle(RF_model, out_model_path+'RF_model.pkl')\n",
    "dump_to_pickle(RF_model, out_model_path+'RF_model_sch_info.pkl')"
   ]
  },
  {
   "cell_type": "code",
   "execution_count": 69,
   "metadata": {},
   "outputs": [],
   "source": [
    "RF_train_pred = RF_model.predict_proba(X_train)\n",
    "RF_test_pred = RF_model.predict_proba(X_test)"
   ]
  },
  {
   "cell_type": "code",
   "execution_count": 70,
   "metadata": {},
   "outputs": [],
   "source": [
    "RF_eval_train, RF_eval_test, RF_eval_data = create_eval_df(RF_train_pred, RF_test_pred, y_train, y_test)\n",
    "\n",
    "#save eval data\n",
    "RF_save_objs = RF_eval_data, RF_eval_train, RF_eval_test\n",
    "#dump_to_pickle(RF_save_objs, out_eval_path+'RF_eval.pkl')\n",
    "dump_to_pickle(RF_save_objs, out_eval_path+'RF_eval_sch_info.pkl')"
   ]
  },
  {
   "cell_type": "code",
   "execution_count": 71,
   "metadata": {},
   "outputs": [
    {
     "data": {
      "image/png": "[encoded data removed]",
      "text/plain": [
       "<Figure size 576x576 with 1 Axes>"
      ]
     },
     "metadata": {
      "needs_background": "light"
     },
     "output_type": "display_data"
    }
   ],
   "source": [
    "plot_feature_importance(RF_model, X.keys())"
   ]
  },
  {
   "cell_type": "markdown",
   "metadata": {},
   "source": [
    "# Support Vector Machines"
   ]
  },
  {
   "cell_type": "code",
   "execution_count": 72,
   "metadata": {},
   "outputs": [],
   "source": [
    "from sklearn.svm import SVC"
   ]
  },
  {
   "cell_type": "code",
   "execution_count": 73,
   "metadata": {},
   "outputs": [],
   "source": [
    "SVC_model = SVC(probability=True, random_state=100).fit(X_train_upsampled, y_train_upsampled)\n",
    "\n",
    "#save model\n",
    "#dump_to_pickle(SVC_model, out_model_path+'SVC_model.pkl')\n",
    "dump_to_pickle(SVC_model, out_model_path+'SVC_model_sch_info.pkl')"
   ]
  },
  {
   "cell_type": "code",
   "execution_count": 74,
   "metadata": {},
   "outputs": [],
   "source": [
    "SVC_train_pred = SVC_model.predict_proba(X_train)\n",
    "SVC_test_pred = SVC_model.predict_proba(X_test)"
   ]
  },
  {
   "cell_type": "code",
   "execution_count": 76,
   "metadata": {},
   "outputs": [],
   "source": [
    "SVC_eval_train, SVC_eval_test, SVC_eval_data = create_eval_df(SVC_train_pred, SVC_test_pred, y_train, y_test)\n",
    "\n",
    "#save eval data\n",
    "SVC_save_objs = SVC_eval_data, SVC_eval_train, SVC_eval_test\n",
    "#dump_to_pickle(SVC_save_objs, out_eval_path+'SVC_eval.pkl')\n",
    "dump_to_pickle(SVC_save_objs, out_eval_path+'SVC_eval_sch_info.pkl')"
   ]
  },
  {
   "cell_type": "code",
   "execution_count": null,
   "metadata": {},
   "outputs": [],
   "source": []
  }
 ],
 "metadata": {
  "kernelspec": {
   "display_name": "Python 3",
   "language": "python",
   "name": "python3"
  },
  "language_info": {
   "codemirror_mode": {
    "name": "ipython",
    "version": 3
   },
   "file_extension": ".py",
   "mimetype": "text/x-python",
   "name": "python",
   "nbconvert_exporter": "python",
   "pygments_lexer": "ipython3",
   "version": "3.7.4"
  }
 },
 "nbformat": 4,
 "nbformat_minor": 2
}
