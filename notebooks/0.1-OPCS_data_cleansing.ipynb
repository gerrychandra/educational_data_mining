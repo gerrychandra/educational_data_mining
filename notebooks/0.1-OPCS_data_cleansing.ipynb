{
 "cells": [
  {
   "cell_type": "markdown",
   "metadata": {},
   "source": [
    "# `WARNING`\n",
    "### DO NOT RERUN this notebook. It will cause an error since the input data is not available in the repository due to confidentiality reason."
   ]
  },
  {
   "cell_type": "code",
   "execution_count": 1,
   "metadata": {},
   "outputs": [],
   "source": [
    "in_path = '../data/raw/Data OPCS/1181.xls'\n",
    "out_path = '../data/interim/OPCS_master.pkl'"
   ]
  },
  {
   "cell_type": "code",
   "execution_count": 2,
   "metadata": {},
   "outputs": [],
   "source": [
    "from os.path import dirname\n",
    "import os, sys, inspect\n",
    "\n",
    "currentdir = os.getcwd()\n",
    "parentdir = dirname(currentdir)\n",
    "\n",
    "sys.path.insert(0,parentdir)"
   ]
  },
  {
   "cell_type": "markdown",
   "metadata": {},
   "source": [
    "# Libs\n",
    "\n",
    "Libraries needed are imported here."
   ]
  },
  {
   "cell_type": "code",
   "execution_count": 3,
   "metadata": {},
   "outputs": [],
   "source": [
    "import warnings\n",
    "warnings.filterwarnings('ignore')\n",
    "\n",
    "import pandas as pd \n",
    "import pickle\n",
    "\n",
    "from src.utils import get_name_of_semester, dump_to_pickle"
   ]
  },
  {
   "cell_type": "code",
   "execution_count": 4,
   "metadata": {},
   "outputs": [],
   "source": [
    "pd.set_option('display.max_rows', None)"
   ]
  },
  {
   "cell_type": "markdown",
   "metadata": {},
   "source": [
    "# Import Table"
   ]
  },
  {
   "cell_type": "code",
   "execution_count": 5,
   "metadata": {},
   "outputs": [],
   "source": [
    "cht_18_raw = pd.read_excel(in_path,\n",
    "                          usecols=[1,4,5,6,7,8,9,10],\n",
    "                          converters={'ACAD_PROG':str,\n",
    "                                     'EMPLID':str,\n",
    "                                     'CAMPUS_ID':str})"
   ]
  },
  {
   "cell_type": "code",
   "execution_count": 6,
   "metadata": {},
   "outputs": [
    {
     "name": "stdout",
     "output_type": "stream",
     "text": [
      "<class 'pandas.core.frame.DataFrame'>\n",
      "RangeIndex: 10454 entries, 0 to 10453\n",
      "Data columns (total 8 columns):\n",
      "EMPLID        10454 non-null object\n",
      "ACAD_PROG     10454 non-null object\n",
      "ADMIT_TERM    10454 non-null int64\n",
      "STRM          10368 non-null float64\n",
      "CUR_GPA       10368 non-null float64\n",
      "CUM_GPA       10368 non-null float64\n",
      "DESCR         10454 non-null object\n",
      "CAMPUS_ID     10454 non-null object\n",
      "dtypes: float64(3), int64(1), object(4)\n",
      "memory usage: 653.5+ KB\n"
     ]
    }
   ],
   "source": [
    "cht_18_raw.info()"
   ]
  },
  {
   "cell_type": "code",
   "execution_count": 7,
   "metadata": {
    "scrolled": true
   },
   "outputs": [
    {
     "data": {
      "text/html": [
       "<div>\n",
       "<style scoped>\n",
       "    .dataframe tbody tr th:only-of-type {\n",
       "        vertical-align: middle;\n",
       "    }\n",
       "\n",
       "    .dataframe tbody tr th {\n",
       "        vertical-align: top;\n",
       "    }\n",
       "\n",
       "    .dataframe thead th {\n",
       "        text-align: right;\n",
       "    }\n",
       "</style>\n",
       "<table border=\"1\" class=\"dataframe\">\n",
       "  <thead>\n",
       "    <tr style=\"text-align: right;\">\n",
       "      <th></th>\n",
       "      <th>EMPLID</th>\n",
       "      <th>ACAD_PROG</th>\n",
       "      <th>ADMIT_TERM</th>\n",
       "      <th>STRM</th>\n",
       "      <th>CUR_GPA</th>\n",
       "      <th>CUM_GPA</th>\n",
       "      <th>DESCR</th>\n",
       "      <th>CAMPUS_ID</th>\n",
       "    </tr>\n",
       "  </thead>\n",
       "  <tbody>\n",
       "    <tr>\n",
       "      <td>0</td>\n",
       "      <td>01011180417</td>\n",
       "      <td>54541</td>\n",
       "      <td>1181</td>\n",
       "      <td>NaN</td>\n",
       "      <td>NaN</td>\n",
       "      <td>NaN</td>\n",
       "      <td>Pengelolaan Perhotelan</td>\n",
       "      <td>1811401617</td>\n",
       "    </tr>\n",
       "    <tr>\n",
       "      <td>1</td>\n",
       "      <td>01011180430</td>\n",
       "      <td>54541</td>\n",
       "      <td>1181</td>\n",
       "      <td>NaN</td>\n",
       "      <td>NaN</td>\n",
       "      <td>NaN</td>\n",
       "      <td>Pengelolaan Perhotelan</td>\n",
       "      <td>1811404439</td>\n",
       "    </tr>\n",
       "    <tr>\n",
       "      <td>2</td>\n",
       "      <td>01051180135</td>\n",
       "      <td>54541</td>\n",
       "      <td>1181</td>\n",
       "      <td>NaN</td>\n",
       "      <td>NaN</td>\n",
       "      <td>NaN</td>\n",
       "      <td>Pengelolaan Perhotelan</td>\n",
       "      <td>1811402802</td>\n",
       "    </tr>\n",
       "    <tr>\n",
       "      <td>3</td>\n",
       "      <td>01051180135</td>\n",
       "      <td>54541</td>\n",
       "      <td>1181</td>\n",
       "      <td>NaN</td>\n",
       "      <td>NaN</td>\n",
       "      <td>NaN</td>\n",
       "      <td>Pengelolaan Perhotelan</td>\n",
       "      <td>1811402802</td>\n",
       "    </tr>\n",
       "    <tr>\n",
       "      <td>4</td>\n",
       "      <td>01121190090</td>\n",
       "      <td>54541</td>\n",
       "      <td>1181</td>\n",
       "      <td>NaN</td>\n",
       "      <td>NaN</td>\n",
       "      <td>NaN</td>\n",
       "      <td>Pengelolaan Perhotelan</td>\n",
       "      <td>1811404507</td>\n",
       "    </tr>\n",
       "    <tr>\n",
       "      <td>5</td>\n",
       "      <td>01541180001</td>\n",
       "      <td>54541</td>\n",
       "      <td>1181</td>\n",
       "      <td>1181.0</td>\n",
       "      <td>3.50</td>\n",
       "      <td>3.50</td>\n",
       "      <td>Pengelolaan Perhotelan</td>\n",
       "      <td>1831100345</td>\n",
       "    </tr>\n",
       "    <tr>\n",
       "      <td>6</td>\n",
       "      <td>01541180001</td>\n",
       "      <td>54541</td>\n",
       "      <td>1181</td>\n",
       "      <td>1182.0</td>\n",
       "      <td>3.06</td>\n",
       "      <td>3.28</td>\n",
       "      <td>Pengelolaan Perhotelan</td>\n",
       "      <td>1831100345</td>\n",
       "    </tr>\n",
       "    <tr>\n",
       "      <td>7</td>\n",
       "      <td>01541180001</td>\n",
       "      <td>54541</td>\n",
       "      <td>1181</td>\n",
       "      <td>1183.0</td>\n",
       "      <td>3.58</td>\n",
       "      <td>3.33</td>\n",
       "      <td>Pengelolaan Perhotelan</td>\n",
       "      <td>1831100345</td>\n",
       "    </tr>\n",
       "  </tbody>\n",
       "</table>\n",
       "</div>"
      ],
      "text/plain": [
       "        EMPLID ACAD_PROG  ADMIT_TERM    STRM  CUR_GPA  CUM_GPA  \\\n",
       "0  01011180417     54541        1181     NaN      NaN      NaN   \n",
       "1  01011180430     54541        1181     NaN      NaN      NaN   \n",
       "2  01051180135     54541        1181     NaN      NaN      NaN   \n",
       "3  01051180135     54541        1181     NaN      NaN      NaN   \n",
       "4  01121190090     54541        1181     NaN      NaN      NaN   \n",
       "5  01541180001     54541        1181  1181.0     3.50     3.50   \n",
       "6  01541180001     54541        1181  1182.0     3.06     3.28   \n",
       "7  01541180001     54541        1181  1183.0     3.58     3.33   \n",
       "\n",
       "                    DESCR   CAMPUS_ID  \n",
       "0  Pengelolaan Perhotelan  1811401617  \n",
       "1  Pengelolaan Perhotelan  1811404439  \n",
       "2  Pengelolaan Perhotelan  1811402802  \n",
       "3  Pengelolaan Perhotelan  1811402802  \n",
       "4  Pengelolaan Perhotelan  1811404507  \n",
       "5  Pengelolaan Perhotelan  1831100345  \n",
       "6  Pengelolaan Perhotelan  1831100345  \n",
       "7  Pengelolaan Perhotelan  1831100345  "
      ]
     },
     "execution_count": 7,
     "metadata": {},
     "output_type": "execute_result"
    }
   ],
   "source": [
    "cht_18_raw.head(8)"
   ]
  },
  {
   "cell_type": "code",
   "execution_count": 8,
   "metadata": {},
   "outputs": [
    {
     "data": {
      "text/plain": [
       "(10454, 8)"
      ]
     },
     "execution_count": 8,
     "metadata": {},
     "output_type": "execute_result"
    }
   ],
   "source": [
    "cht_18_raw.shape"
   ]
  },
  {
   "cell_type": "code",
   "execution_count": 9,
   "metadata": {},
   "outputs": [
    {
     "data": {
      "text/plain": [
       "EMPLID         0\n",
       "ACAD_PROG      0\n",
       "ADMIT_TERM     0\n",
       "STRM          86\n",
       "CUR_GPA       86\n",
       "CUM_GPA       86\n",
       "DESCR          0\n",
       "CAMPUS_ID      0\n",
       "dtype: int64"
      ]
     },
     "execution_count": 9,
     "metadata": {},
     "output_type": "execute_result"
    }
   ],
   "source": [
    "cht_18_raw.isnull().sum()"
   ]
  },
  {
   "cell_type": "markdown",
   "metadata": {},
   "source": [
    "# Cleaning"
   ]
  },
  {
   "cell_type": "code",
   "execution_count": 10,
   "metadata": {},
   "outputs": [],
   "source": [
    "#rearrange columns\n",
    "arr_cols = [\n",
    "    'EMPLID',\n",
    "    'CAMPUS_ID',\n",
    "    'ACAD_PROG',\n",
    "    'DESCR',\n",
    "    'ADMIT_TERM',\n",
    "    'STRM',\n",
    "    'CUR_GPA',\n",
    "    'CUM_GPA'\n",
    "]\n",
    "\n",
    "cht_18_raw = cht_18_raw[arr_cols]"
   ]
  },
  {
   "cell_type": "markdown",
   "metadata": {},
   "source": [
    "Renaming columns are done for simplicity reason and ambiguity prevention."
   ]
  },
  {
   "cell_type": "code",
   "execution_count": 11,
   "metadata": {},
   "outputs": [],
   "source": [
    "#rename columns\n",
    "cht_18_master = cht_18_raw.rename(columns={\n",
    "    'EMPLID': 'NIM',\n",
    "    'ACAD_PROG': 'major_code_opcs',\n",
    "    'CAMPUS_ID': 'form_number',\n",
    "    'DESCR': 'major_name_opcs',\n",
    "    'CUR_GPA': 'GPA',\n",
    "    'CUM_GPA': 'CGPA'\n",
    "})"
   ]
  },
  {
   "cell_type": "markdown",
   "metadata": {},
   "source": [
    "Here all of the rows with missing values are dropped because the amount is not that significant compared to the whole data."
   ]
  },
  {
   "cell_type": "code",
   "execution_count": 12,
   "metadata": {},
   "outputs": [],
   "source": [
    "#drop missing values\n",
    "cht_18_master.dropna(inplace=True)"
   ]
  },
  {
   "cell_type": "code",
   "execution_count": 13,
   "metadata": {},
   "outputs": [],
   "source": [
    "#format STRM type to int\n",
    "cht_18_master['STRM'] = cht_18_master['STRM'].astype(int)"
   ]
  },
  {
   "cell_type": "code",
   "execution_count": 14,
   "metadata": {},
   "outputs": [
    {
     "data": {
      "text/html": [
       "<div>\n",
       "<style scoped>\n",
       "    .dataframe tbody tr th:only-of-type {\n",
       "        vertical-align: middle;\n",
       "    }\n",
       "\n",
       "    .dataframe tbody tr th {\n",
       "        vertical-align: top;\n",
       "    }\n",
       "\n",
       "    .dataframe thead th {\n",
       "        text-align: right;\n",
       "    }\n",
       "</style>\n",
       "<table border=\"1\" class=\"dataframe\">\n",
       "  <thead>\n",
       "    <tr style=\"text-align: right;\">\n",
       "      <th></th>\n",
       "      <th>NIM</th>\n",
       "      <th>form_number</th>\n",
       "      <th>major_code_opcs</th>\n",
       "      <th>major_name_opcs</th>\n",
       "      <th>ADMIT_TERM</th>\n",
       "      <th>STRM</th>\n",
       "      <th>GPA</th>\n",
       "      <th>CGPA</th>\n",
       "    </tr>\n",
       "  </thead>\n",
       "  <tbody>\n",
       "    <tr>\n",
       "      <td>5</td>\n",
       "      <td>01541180001</td>\n",
       "      <td>1831100345</td>\n",
       "      <td>54541</td>\n",
       "      <td>Pengelolaan Perhotelan</td>\n",
       "      <td>1181</td>\n",
       "      <td>1181</td>\n",
       "      <td>3.50</td>\n",
       "      <td>3.50</td>\n",
       "    </tr>\n",
       "    <tr>\n",
       "      <td>6</td>\n",
       "      <td>01541180001</td>\n",
       "      <td>1831100345</td>\n",
       "      <td>54541</td>\n",
       "      <td>Pengelolaan Perhotelan</td>\n",
       "      <td>1181</td>\n",
       "      <td>1182</td>\n",
       "      <td>3.06</td>\n",
       "      <td>3.28</td>\n",
       "    </tr>\n",
       "    <tr>\n",
       "      <td>7</td>\n",
       "      <td>01541180001</td>\n",
       "      <td>1831100345</td>\n",
       "      <td>54541</td>\n",
       "      <td>Pengelolaan Perhotelan</td>\n",
       "      <td>1181</td>\n",
       "      <td>1183</td>\n",
       "      <td>3.58</td>\n",
       "      <td>3.33</td>\n",
       "    </tr>\n",
       "  </tbody>\n",
       "</table>\n",
       "</div>"
      ],
      "text/plain": [
       "           NIM form_number major_code_opcs         major_name_opcs  \\\n",
       "5  01541180001  1831100345           54541  Pengelolaan Perhotelan   \n",
       "6  01541180001  1831100345           54541  Pengelolaan Perhotelan   \n",
       "7  01541180001  1831100345           54541  Pengelolaan Perhotelan   \n",
       "\n",
       "   ADMIT_TERM  STRM   GPA  CGPA  \n",
       "5        1181  1181  3.50  3.50  \n",
       "6        1181  1182  3.06  3.28  \n",
       "7        1181  1183  3.58  3.33  "
      ]
     },
     "execution_count": 14,
     "metadata": {},
     "output_type": "execute_result"
    }
   ],
   "source": [
    "cht_18_master.head(3)"
   ]
  },
  {
   "cell_type": "markdown",
   "metadata": {},
   "source": [
    "### Get Normalized Semester Name\n",
    "We create new column that can easily represent semester with more intuitive name rather than the one in `STRM` column. This is done with `get_name_of_semester` function. The function is created so that it can be applied to other batch too. If you want to see the raw code of the function, refer to [here](../src/utils.py). "
   ]
  },
  {
   "cell_type": "code",
   "execution_count": 15,
   "metadata": {},
   "outputs": [],
   "source": [
    "cht_18_master['semester'] = \\\n",
    "cht_18_master.apply(lambda row: get_name_of_semester(row['ADMIT_TERM'], row['STRM']),\n",
    "                   axis=1)"
   ]
  },
  {
   "cell_type": "markdown",
   "metadata": {},
   "source": [
    "Here odd semesters are dropped. Semester 4 is dropped because it's the current running semester. Semester 99 is also dropped because it's not interpretable."
   ]
  },
  {
   "cell_type": "code",
   "execution_count": 16,
   "metadata": {},
   "outputs": [],
   "source": [
    "#drop sem_04 since the semester is not finished yet\n",
    "#drop sem_99, nonsense semester \n",
    "semester_to_drop =['sem_04', 'sem_99']\n",
    "\n",
    "cht_18_master = cht_18_master.loc[~cht_18_master.semester.isin(semester_to_drop)]"
   ]
  },
  {
   "cell_type": "code",
   "execution_count": 17,
   "metadata": {},
   "outputs": [
    {
     "data": {
      "text/html": [
       "<div>\n",
       "<style scoped>\n",
       "    .dataframe tbody tr th:only-of-type {\n",
       "        vertical-align: middle;\n",
       "    }\n",
       "\n",
       "    .dataframe tbody tr th {\n",
       "        vertical-align: top;\n",
       "    }\n",
       "\n",
       "    .dataframe thead th {\n",
       "        text-align: right;\n",
       "    }\n",
       "</style>\n",
       "<table border=\"1\" class=\"dataframe\">\n",
       "  <thead>\n",
       "    <tr style=\"text-align: right;\">\n",
       "      <th></th>\n",
       "      <th>NIM</th>\n",
       "      <th>form_number</th>\n",
       "      <th>major_code_opcs</th>\n",
       "      <th>major_name_opcs</th>\n",
       "      <th>ADMIT_TERM</th>\n",
       "      <th>STRM</th>\n",
       "      <th>GPA</th>\n",
       "      <th>CGPA</th>\n",
       "      <th>semester</th>\n",
       "    </tr>\n",
       "  </thead>\n",
       "  <tbody>\n",
       "    <tr>\n",
       "      <td>5</td>\n",
       "      <td>01541180001</td>\n",
       "      <td>1831100345</td>\n",
       "      <td>54541</td>\n",
       "      <td>Pengelolaan Perhotelan</td>\n",
       "      <td>1181</td>\n",
       "      <td>1181</td>\n",
       "      <td>3.50</td>\n",
       "      <td>3.50</td>\n",
       "      <td>sem_01</td>\n",
       "    </tr>\n",
       "    <tr>\n",
       "      <td>6</td>\n",
       "      <td>01541180001</td>\n",
       "      <td>1831100345</td>\n",
       "      <td>54541</td>\n",
       "      <td>Pengelolaan Perhotelan</td>\n",
       "      <td>1181</td>\n",
       "      <td>1182</td>\n",
       "      <td>3.06</td>\n",
       "      <td>3.28</td>\n",
       "      <td>sem_02</td>\n",
       "    </tr>\n",
       "    <tr>\n",
       "      <td>7</td>\n",
       "      <td>01541180001</td>\n",
       "      <td>1831100345</td>\n",
       "      <td>54541</td>\n",
       "      <td>Pengelolaan Perhotelan</td>\n",
       "      <td>1181</td>\n",
       "      <td>1183</td>\n",
       "      <td>3.58</td>\n",
       "      <td>3.33</td>\n",
       "      <td>sem_03</td>\n",
       "    </tr>\n",
       "  </tbody>\n",
       "</table>\n",
       "</div>"
      ],
      "text/plain": [
       "           NIM form_number major_code_opcs         major_name_opcs  \\\n",
       "5  01541180001  1831100345           54541  Pengelolaan Perhotelan   \n",
       "6  01541180001  1831100345           54541  Pengelolaan Perhotelan   \n",
       "7  01541180001  1831100345           54541  Pengelolaan Perhotelan   \n",
       "\n",
       "   ADMIT_TERM  STRM   GPA  CGPA semester  \n",
       "5        1181  1181  3.50  3.50   sem_01  \n",
       "6        1181  1182  3.06  3.28   sem_02  \n",
       "7        1181  1183  3.58  3.33   sem_03  "
      ]
     },
     "execution_count": 17,
     "metadata": {},
     "output_type": "execute_result"
    }
   ],
   "source": [
    "cht_18_master.head(3)"
   ]
  },
  {
   "cell_type": "markdown",
   "metadata": {},
   "source": [
    "Students with CGPA = 0 is assumed to change major during the first year of their study. Therefore, this will be dropped so that the data remains the latest major they are in now."
   ]
  },
  {
   "cell_type": "code",
   "execution_count": 18,
   "metadata": {},
   "outputs": [],
   "source": [
    "#drop changed major data, keep the updated major data\n",
    "cht_18_master = cht_18_master.loc[cht_18_master['CGPA']!=0]"
   ]
  },
  {
   "cell_type": "markdown",
   "metadata": {},
   "source": [
    "### Get Last Semester CGPA\n",
    "This step is done to get the last CGPA of every student regardless of their last semester at UPH. Last semester in this data should be semester 3, but some students haven't reached semester 3 due to several reasons."
   ]
  },
  {
   "cell_type": "code",
   "execution_count": 19,
   "metadata": {},
   "outputs": [],
   "source": [
    "df = cht_18_master.sort_values(['NIM', 'STRM'], ascending=True)"
   ]
  },
  {
   "cell_type": "code",
   "execution_count": 20,
   "metadata": {},
   "outputs": [],
   "source": [
    "df['lead_sem'] = df.groupby('NIM')['semester'].shift(-1)"
   ]
  },
  {
   "cell_type": "code",
   "execution_count": 21,
   "metadata": {},
   "outputs": [],
   "source": [
    "df['is_lead_sem_null'] = df['lead_sem'].isnull()"
   ]
  },
  {
   "cell_type": "code",
   "execution_count": 22,
   "metadata": {},
   "outputs": [],
   "source": [
    "df_last_sem = df[df['is_lead_sem_null']==True][['NIM', 'form_number', 'major_code_opcs', 'major_name_opcs', 'CGPA']]"
   ]
  },
  {
   "cell_type": "code",
   "execution_count": 23,
   "metadata": {},
   "outputs": [],
   "source": [
    "df_last_sem.rename(columns={\n",
    "    'CGPA': 'Last_CGPA'\n",
    "}, inplace=True)"
   ]
  },
  {
   "cell_type": "markdown",
   "metadata": {},
   "source": [
    "# Pivot\n",
    "Pivot table is performed so that each row represents one student."
   ]
  },
  {
   "cell_type": "code",
   "execution_count": 24,
   "metadata": {},
   "outputs": [],
   "source": [
    "df_CGPA = \\\n",
    "df.pivot_table(index=['NIM', 'form_number', 'major_code_opcs', 'major_name_opcs'], columns='semester', values='CGPA').reset_index()\n",
    "\n",
    "df_GPA = \\\n",
    "df.pivot_table(index=['NIM', 'form_number', 'major_code_opcs', 'major_name_opcs'], \n",
    "               columns='semester', values='GPA').reset_index()"
   ]
  },
  {
   "cell_type": "code",
   "execution_count": 25,
   "metadata": {},
   "outputs": [],
   "source": [
    "OPCS_master = pd.merge(df_CGPA, df_GPA, on=['NIM','form_number', 'major_code_opcs', 'major_name_opcs'], suffixes=('_CGPA', '_GPA'))"
   ]
  },
  {
   "cell_type": "code",
   "execution_count": 26,
   "metadata": {},
   "outputs": [],
   "source": [
    "OPCS_master = OPCS_master.merge(df_last_sem, on=['NIM','form_number','major_code_opcs','major_name_opcs'])"
   ]
  },
  {
   "cell_type": "code",
   "execution_count": 30,
   "metadata": {
    "scrolled": true
   },
   "outputs": [
    {
     "data": {
      "text/html": [
       "<div>\n",
       "<style scoped>\n",
       "    .dataframe tbody tr th:only-of-type {\n",
       "        vertical-align: middle;\n",
       "    }\n",
       "\n",
       "    .dataframe tbody tr th {\n",
       "        vertical-align: top;\n",
       "    }\n",
       "\n",
       "    .dataframe thead th {\n",
       "        text-align: right;\n",
       "    }\n",
       "</style>\n",
       "<table border=\"1\" class=\"dataframe\">\n",
       "  <thead>\n",
       "    <tr style=\"text-align: right;\">\n",
       "      <th></th>\n",
       "      <th>NIM</th>\n",
       "      <th>form_number</th>\n",
       "      <th>major_code_opcs</th>\n",
       "      <th>major_name_opcs</th>\n",
       "      <th>sem_01_CGPA</th>\n",
       "      <th>sem_02_CGPA</th>\n",
       "      <th>sem_03_CGPA</th>\n",
       "      <th>sem_01_GPA</th>\n",
       "      <th>sem_02_GPA</th>\n",
       "      <th>sem_03_GPA</th>\n",
       "      <th>Last_CGPA</th>\n",
       "    </tr>\n",
       "  </thead>\n",
       "  <tbody>\n",
       "    <tr>\n",
       "      <td>0</td>\n",
       "      <td>01011180001</td>\n",
       "      <td>1831100382</td>\n",
       "      <td>01011</td>\n",
       "      <td>Manajemen</td>\n",
       "      <td>3.54</td>\n",
       "      <td>3.30</td>\n",
       "      <td>3.25</td>\n",
       "      <td>3.54</td>\n",
       "      <td>3.04</td>\n",
       "      <td>2.98</td>\n",
       "      <td>3.25</td>\n",
       "    </tr>\n",
       "    <tr>\n",
       "      <td>1</td>\n",
       "      <td>01011180002</td>\n",
       "      <td>1811100709</td>\n",
       "      <td>01011</td>\n",
       "      <td>Manajemen</td>\n",
       "      <td>1.06</td>\n",
       "      <td>1.06</td>\n",
       "      <td>1.06</td>\n",
       "      <td>1.06</td>\n",
       "      <td>0.00</td>\n",
       "      <td>0.00</td>\n",
       "      <td>1.06</td>\n",
       "    </tr>\n",
       "    <tr>\n",
       "      <td>2</td>\n",
       "      <td>01011180003</td>\n",
       "      <td>1811100388</td>\n",
       "      <td>01011</td>\n",
       "      <td>Manajemen</td>\n",
       "      <td>2.39</td>\n",
       "      <td>2.03</td>\n",
       "      <td>2.07</td>\n",
       "      <td>2.39</td>\n",
       "      <td>1.63</td>\n",
       "      <td>2.25</td>\n",
       "      <td>2.07</td>\n",
       "    </tr>\n",
       "  </tbody>\n",
       "</table>\n",
       "</div>"
      ],
      "text/plain": [
       "           NIM form_number major_code_opcs major_name_opcs  sem_01_CGPA  \\\n",
       "0  01011180001  1831100382           01011       Manajemen         3.54   \n",
       "1  01011180002  1811100709           01011       Manajemen         1.06   \n",
       "2  01011180003  1811100388           01011       Manajemen         2.39   \n",
       "\n",
       "   sem_02_CGPA  sem_03_CGPA  sem_01_GPA  sem_02_GPA  sem_03_GPA  Last_CGPA  \n",
       "0         3.30         3.25        3.54        3.04        2.98       3.25  \n",
       "1         1.06         1.06        1.06        0.00        0.00       1.06  \n",
       "2         2.03         2.07        2.39        1.63        2.25       2.07  "
      ]
     },
     "execution_count": 30,
     "metadata": {},
     "output_type": "execute_result"
    }
   ],
   "source": [
    "OPCS_master.head(3)"
   ]
  },
  {
   "cell_type": "code",
   "execution_count": 28,
   "metadata": {},
   "outputs": [
    {
     "data": {
      "text/plain": [
       "(2571, 11)"
      ]
     },
     "execution_count": 28,
     "metadata": {},
     "output_type": "execute_result"
    }
   ],
   "source": [
    "OPCS_master.shape"
   ]
  },
  {
   "cell_type": "markdown",
   "metadata": {},
   "source": [
    "# Dump to Pickle"
   ]
  },
  {
   "cell_type": "code",
   "execution_count": 29,
   "metadata": {},
   "outputs": [],
   "source": [
    "dump_to_pickle(OPCS_master, out_path)"
   ]
  }
 ],
 "metadata": {
  "kernelspec": {
   "display_name": "Python 3",
   "language": "python",
   "name": "python3"
  },
  "language_info": {
   "codemirror_mode": {
    "name": "ipython",
    "version": 3
   },
   "file_extension": ".py",
   "mimetype": "text/x-python",
   "name": "python",
   "nbconvert_exporter": "python",
   "pygments_lexer": "ipython3",
   "version": "3.7.4"
  }
 },
 "nbformat": 4,
 "nbformat_minor": 2
}
