{
 "cells": [
  {
   "cell_type": "code",
   "execution_count": 1,
   "metadata": {},
   "outputs": [],
   "source": [
    "in_path = '../data/raw/Data OPCS/1181.xls'\n",
    "out_path = '../data/interim/OPCS_master.pkl'"
   ]
  },
  {
   "cell_type": "code",
   "execution_count": 2,
   "metadata": {},
   "outputs": [],
   "source": [
    "from os.path import dirname\n",
    "import os, sys, inspect\n",
    "\n",
    "currentdir = os.getcwd()\n",
    "parentdir = dirname(currentdir)\n",
    "\n",
    "sys.path.insert(0,parentdir)"
   ]
  },
  {
   "cell_type": "markdown",
   "metadata": {},
   "source": [
    "# Libs"
   ]
  },
  {
   "cell_type": "code",
   "execution_count": 3,
   "metadata": {},
   "outputs": [],
   "source": [
    "import warnings\n",
    "warnings.filterwarnings('ignore')\n",
    "\n",
    "import pandas as pd \n",
    "import pickle\n",
    "\n",
    "from src.utils import get_name_of_semester, read_pickle, dump_to_pickle"
   ]
  },
  {
   "cell_type": "markdown",
   "metadata": {},
   "source": [
    "# Import Table"
   ]
  },
  {
   "cell_type": "code",
   "execution_count": 4,
   "metadata": {},
   "outputs": [],
   "source": [
    "cht_18_raw = pd.read_excel(in_path,\n",
    "                          usecols=[1,5,6,7,8,9,10])"
   ]
  },
  {
   "cell_type": "code",
   "execution_count": 5,
   "metadata": {},
   "outputs": [
    {
     "name": "stdout",
     "output_type": "stream",
     "text": [
      "<class 'pandas.core.frame.DataFrame'>\n",
      "RangeIndex: 10454 entries, 0 to 10453\n",
      "Data columns (total 7 columns):\n",
      "EMPLID        10454 non-null int64\n",
      "ADMIT_TERM    10454 non-null int64\n",
      "STRM          10368 non-null float64\n",
      "CUR_GPA       10368 non-null float64\n",
      "CUM_GPA       10368 non-null float64\n",
      "DESCR         10454 non-null object\n",
      "CAMPUS_ID     10454 non-null object\n",
      "dtypes: float64(3), int64(2), object(2)\n",
      "memory usage: 571.8+ KB\n"
     ]
    }
   ],
   "source": [
    "cht_18_raw.info()"
   ]
  },
  {
   "cell_type": "code",
   "execution_count": 6,
   "metadata": {},
   "outputs": [
    {
     "data": {
      "text/html": [
       "<div>\n",
       "<style scoped>\n",
       "    .dataframe tbody tr th:only-of-type {\n",
       "        vertical-align: middle;\n",
       "    }\n",
       "\n",
       "    .dataframe tbody tr th {\n",
       "        vertical-align: top;\n",
       "    }\n",
       "\n",
       "    .dataframe thead th {\n",
       "        text-align: right;\n",
       "    }\n",
       "</style>\n",
       "<table border=\"1\" class=\"dataframe\">\n",
       "  <thead>\n",
       "    <tr style=\"text-align: right;\">\n",
       "      <th></th>\n",
       "      <th>EMPLID</th>\n",
       "      <th>ADMIT_TERM</th>\n",
       "      <th>STRM</th>\n",
       "      <th>CUR_GPA</th>\n",
       "      <th>CUM_GPA</th>\n",
       "      <th>DESCR</th>\n",
       "      <th>CAMPUS_ID</th>\n",
       "    </tr>\n",
       "  </thead>\n",
       "  <tbody>\n",
       "    <tr>\n",
       "      <th>0</th>\n",
       "      <td>1011180417</td>\n",
       "      <td>1181</td>\n",
       "      <td>NaN</td>\n",
       "      <td>NaN</td>\n",
       "      <td>NaN</td>\n",
       "      <td>Pengelolaan Perhotelan</td>\n",
       "      <td>1811401617</td>\n",
       "    </tr>\n",
       "    <tr>\n",
       "      <th>1</th>\n",
       "      <td>1011180430</td>\n",
       "      <td>1181</td>\n",
       "      <td>NaN</td>\n",
       "      <td>NaN</td>\n",
       "      <td>NaN</td>\n",
       "      <td>Pengelolaan Perhotelan</td>\n",
       "      <td>1811404439</td>\n",
       "    </tr>\n",
       "    <tr>\n",
       "      <th>2</th>\n",
       "      <td>1051180135</td>\n",
       "      <td>1181</td>\n",
       "      <td>NaN</td>\n",
       "      <td>NaN</td>\n",
       "      <td>NaN</td>\n",
       "      <td>Pengelolaan Perhotelan</td>\n",
       "      <td>1811402802</td>\n",
       "    </tr>\n",
       "    <tr>\n",
       "      <th>3</th>\n",
       "      <td>1051180135</td>\n",
       "      <td>1181</td>\n",
       "      <td>NaN</td>\n",
       "      <td>NaN</td>\n",
       "      <td>NaN</td>\n",
       "      <td>Pengelolaan Perhotelan</td>\n",
       "      <td>1811402802</td>\n",
       "    </tr>\n",
       "    <tr>\n",
       "      <th>4</th>\n",
       "      <td>1121190090</td>\n",
       "      <td>1181</td>\n",
       "      <td>NaN</td>\n",
       "      <td>NaN</td>\n",
       "      <td>NaN</td>\n",
       "      <td>Pengelolaan Perhotelan</td>\n",
       "      <td>1811404507</td>\n",
       "    </tr>\n",
       "    <tr>\n",
       "      <th>5</th>\n",
       "      <td>1541180001</td>\n",
       "      <td>1181</td>\n",
       "      <td>1181.0</td>\n",
       "      <td>3.50</td>\n",
       "      <td>3.50</td>\n",
       "      <td>Pengelolaan Perhotelan</td>\n",
       "      <td>1831100345</td>\n",
       "    </tr>\n",
       "    <tr>\n",
       "      <th>6</th>\n",
       "      <td>1541180001</td>\n",
       "      <td>1181</td>\n",
       "      <td>1182.0</td>\n",
       "      <td>3.06</td>\n",
       "      <td>3.28</td>\n",
       "      <td>Pengelolaan Perhotelan</td>\n",
       "      <td>1831100345</td>\n",
       "    </tr>\n",
       "    <tr>\n",
       "      <th>7</th>\n",
       "      <td>1541180001</td>\n",
       "      <td>1181</td>\n",
       "      <td>1183.0</td>\n",
       "      <td>3.58</td>\n",
       "      <td>3.33</td>\n",
       "      <td>Pengelolaan Perhotelan</td>\n",
       "      <td>1831100345</td>\n",
       "    </tr>\n",
       "  </tbody>\n",
       "</table>\n",
       "</div>"
      ],
      "text/plain": [
       "       EMPLID  ADMIT_TERM    STRM  CUR_GPA  CUM_GPA                   DESCR  \\\n",
       "0  1011180417        1181     NaN      NaN      NaN  Pengelolaan Perhotelan   \n",
       "1  1011180430        1181     NaN      NaN      NaN  Pengelolaan Perhotelan   \n",
       "2  1051180135        1181     NaN      NaN      NaN  Pengelolaan Perhotelan   \n",
       "3  1051180135        1181     NaN      NaN      NaN  Pengelolaan Perhotelan   \n",
       "4  1121190090        1181     NaN      NaN      NaN  Pengelolaan Perhotelan   \n",
       "5  1541180001        1181  1181.0     3.50     3.50  Pengelolaan Perhotelan   \n",
       "6  1541180001        1181  1182.0     3.06     3.28  Pengelolaan Perhotelan   \n",
       "7  1541180001        1181  1183.0     3.58     3.33  Pengelolaan Perhotelan   \n",
       "\n",
       "    CAMPUS_ID  \n",
       "0  1811401617  \n",
       "1  1811404439  \n",
       "2  1811402802  \n",
       "3  1811402802  \n",
       "4  1811404507  \n",
       "5  1831100345  \n",
       "6  1831100345  \n",
       "7  1831100345  "
      ]
     },
     "execution_count": 6,
     "metadata": {},
     "output_type": "execute_result"
    }
   ],
   "source": [
    "cht_18_raw.head(8)"
   ]
  },
  {
   "cell_type": "code",
   "execution_count": 7,
   "metadata": {},
   "outputs": [
    {
     "data": {
      "text/plain": [
       "EMPLID         0\n",
       "ADMIT_TERM     0\n",
       "STRM          86\n",
       "CUR_GPA       86\n",
       "CUM_GPA       86\n",
       "DESCR          0\n",
       "CAMPUS_ID      0\n",
       "dtype: int64"
      ]
     },
     "execution_count": 7,
     "metadata": {},
     "output_type": "execute_result"
    }
   ],
   "source": [
    "cht_18_raw.isnull().sum()"
   ]
  },
  {
   "cell_type": "markdown",
   "metadata": {},
   "source": [
    "# Cleaning"
   ]
  },
  {
   "cell_type": "code",
   "execution_count": 8,
   "metadata": {},
   "outputs": [],
   "source": [
    "#rearrange columns\n",
    "arr_cols = [\n",
    "    'EMPLID',\n",
    "    'CAMPUS_ID',\n",
    "    'DESCR',\n",
    "    'ADMIT_TERM',\n",
    "    'STRM',\n",
    "    'CUR_GPA',\n",
    "    'CUM_GPA'\n",
    "]\n",
    "\n",
    "cht_18_raw = cht_18_raw[arr_cols]"
   ]
  },
  {
   "cell_type": "code",
   "execution_count": 9,
   "metadata": {},
   "outputs": [],
   "source": [
    "#rename columns\n",
    "cht_18_master = cht_18_raw.rename(columns={\n",
    "    'EMPLID': 'NIM',\n",
    "    'CAMPUS_ID': 'form_number',\n",
    "    'DESCR': 'major_name_opcs',\n",
    "    'CUR_GPA': 'GPA',\n",
    "    'CUM_GPA': 'CGPA'\n",
    "})"
   ]
  },
  {
   "cell_type": "code",
   "execution_count": 10,
   "metadata": {},
   "outputs": [],
   "source": [
    "#drop missing values\n",
    "cht_18_master.dropna(inplace=True)"
   ]
  },
  {
   "cell_type": "code",
   "execution_count": 11,
   "metadata": {},
   "outputs": [],
   "source": [
    "#format STRM type to int\n",
    "cht_18_master['STRM'] = cht_18_master['STRM'].astype(int)"
   ]
  },
  {
   "cell_type": "code",
   "execution_count": 12,
   "metadata": {},
   "outputs": [
    {
     "data": {
      "text/html": [
       "<div>\n",
       "<style scoped>\n",
       "    .dataframe tbody tr th:only-of-type {\n",
       "        vertical-align: middle;\n",
       "    }\n",
       "\n",
       "    .dataframe tbody tr th {\n",
       "        vertical-align: top;\n",
       "    }\n",
       "\n",
       "    .dataframe thead th {\n",
       "        text-align: right;\n",
       "    }\n",
       "</style>\n",
       "<table border=\"1\" class=\"dataframe\">\n",
       "  <thead>\n",
       "    <tr style=\"text-align: right;\">\n",
       "      <th></th>\n",
       "      <th>NIM</th>\n",
       "      <th>form_number</th>\n",
       "      <th>major_name_opcs</th>\n",
       "      <th>ADMIT_TERM</th>\n",
       "      <th>STRM</th>\n",
       "      <th>GPA</th>\n",
       "      <th>CGPA</th>\n",
       "    </tr>\n",
       "  </thead>\n",
       "  <tbody>\n",
       "    <tr>\n",
       "      <th>5</th>\n",
       "      <td>1541180001</td>\n",
       "      <td>1831100345</td>\n",
       "      <td>Pengelolaan Perhotelan</td>\n",
       "      <td>1181</td>\n",
       "      <td>1181</td>\n",
       "      <td>3.50</td>\n",
       "      <td>3.50</td>\n",
       "    </tr>\n",
       "    <tr>\n",
       "      <th>6</th>\n",
       "      <td>1541180001</td>\n",
       "      <td>1831100345</td>\n",
       "      <td>Pengelolaan Perhotelan</td>\n",
       "      <td>1181</td>\n",
       "      <td>1182</td>\n",
       "      <td>3.06</td>\n",
       "      <td>3.28</td>\n",
       "    </tr>\n",
       "    <tr>\n",
       "      <th>7</th>\n",
       "      <td>1541180001</td>\n",
       "      <td>1831100345</td>\n",
       "      <td>Pengelolaan Perhotelan</td>\n",
       "      <td>1181</td>\n",
       "      <td>1183</td>\n",
       "      <td>3.58</td>\n",
       "      <td>3.33</td>\n",
       "    </tr>\n",
       "    <tr>\n",
       "      <th>8</th>\n",
       "      <td>1541180001</td>\n",
       "      <td>1831100345</td>\n",
       "      <td>Pengelolaan Perhotelan</td>\n",
       "      <td>1181</td>\n",
       "      <td>1191</td>\n",
       "      <td>0.00</td>\n",
       "      <td>3.33</td>\n",
       "    </tr>\n",
       "    <tr>\n",
       "      <th>9</th>\n",
       "      <td>1541180002</td>\n",
       "      <td>1811400700</td>\n",
       "      <td>Pengelolaan Perhotelan</td>\n",
       "      <td>1181</td>\n",
       "      <td>1181</td>\n",
       "      <td>0.00</td>\n",
       "      <td>0.00</td>\n",
       "    </tr>\n",
       "  </tbody>\n",
       "</table>\n",
       "</div>"
      ],
      "text/plain": [
       "          NIM form_number         major_name_opcs  ADMIT_TERM  STRM   GPA  \\\n",
       "5  1541180001  1831100345  Pengelolaan Perhotelan        1181  1181  3.50   \n",
       "6  1541180001  1831100345  Pengelolaan Perhotelan        1181  1182  3.06   \n",
       "7  1541180001  1831100345  Pengelolaan Perhotelan        1181  1183  3.58   \n",
       "8  1541180001  1831100345  Pengelolaan Perhotelan        1181  1191  0.00   \n",
       "9  1541180002  1811400700  Pengelolaan Perhotelan        1181  1181  0.00   \n",
       "\n",
       "   CGPA  \n",
       "5  3.50  \n",
       "6  3.28  \n",
       "7  3.33  \n",
       "8  3.33  \n",
       "9  0.00  "
      ]
     },
     "execution_count": 12,
     "metadata": {},
     "output_type": "execute_result"
    }
   ],
   "source": [
    "cht_18_master.head()"
   ]
  },
  {
   "cell_type": "markdown",
   "metadata": {},
   "source": [
    "### Get Normalized Semester Name"
   ]
  },
  {
   "cell_type": "code",
   "execution_count": 13,
   "metadata": {},
   "outputs": [],
   "source": [
    "cht_18_master['semester'] = \\\n",
    "cht_18_master.apply(lambda row: get_name_of_semester(row['ADMIT_TERM'], row['STRM']),\n",
    "                   axis=1)"
   ]
  },
  {
   "cell_type": "code",
   "execution_count": 14,
   "metadata": {},
   "outputs": [],
   "source": [
    "#drop sem_04 since the semester is not finished yet\n",
    "#drop sem_99, nonsense semester \n",
    "semester_to_drop =['sem_04', 'sem_99']\n",
    "\n",
    "cht_18_master = cht_18_master.loc[~cht_18_master.semester.isin(semester_to_drop)]"
   ]
  },
  {
   "cell_type": "code",
   "execution_count": 15,
   "metadata": {},
   "outputs": [
    {
     "data": {
      "text/html": [
       "<div>\n",
       "<style scoped>\n",
       "    .dataframe tbody tr th:only-of-type {\n",
       "        vertical-align: middle;\n",
       "    }\n",
       "\n",
       "    .dataframe tbody tr th {\n",
       "        vertical-align: top;\n",
       "    }\n",
       "\n",
       "    .dataframe thead th {\n",
       "        text-align: right;\n",
       "    }\n",
       "</style>\n",
       "<table border=\"1\" class=\"dataframe\">\n",
       "  <thead>\n",
       "    <tr style=\"text-align: right;\">\n",
       "      <th></th>\n",
       "      <th>NIM</th>\n",
       "      <th>form_number</th>\n",
       "      <th>major_name_opcs</th>\n",
       "      <th>ADMIT_TERM</th>\n",
       "      <th>STRM</th>\n",
       "      <th>GPA</th>\n",
       "      <th>CGPA</th>\n",
       "      <th>semester</th>\n",
       "    </tr>\n",
       "  </thead>\n",
       "  <tbody>\n",
       "    <tr>\n",
       "      <th>5</th>\n",
       "      <td>1541180001</td>\n",
       "      <td>1831100345</td>\n",
       "      <td>Pengelolaan Perhotelan</td>\n",
       "      <td>1181</td>\n",
       "      <td>1181</td>\n",
       "      <td>3.50</td>\n",
       "      <td>3.50</td>\n",
       "      <td>sem_01</td>\n",
       "    </tr>\n",
       "    <tr>\n",
       "      <th>6</th>\n",
       "      <td>1541180001</td>\n",
       "      <td>1831100345</td>\n",
       "      <td>Pengelolaan Perhotelan</td>\n",
       "      <td>1181</td>\n",
       "      <td>1182</td>\n",
       "      <td>3.06</td>\n",
       "      <td>3.28</td>\n",
       "      <td>sem_02</td>\n",
       "    </tr>\n",
       "    <tr>\n",
       "      <th>7</th>\n",
       "      <td>1541180001</td>\n",
       "      <td>1831100345</td>\n",
       "      <td>Pengelolaan Perhotelan</td>\n",
       "      <td>1181</td>\n",
       "      <td>1183</td>\n",
       "      <td>3.58</td>\n",
       "      <td>3.33</td>\n",
       "      <td>sem_03</td>\n",
       "    </tr>\n",
       "    <tr>\n",
       "      <th>9</th>\n",
       "      <td>1541180002</td>\n",
       "      <td>1811400700</td>\n",
       "      <td>Pengelolaan Perhotelan</td>\n",
       "      <td>1181</td>\n",
       "      <td>1181</td>\n",
       "      <td>0.00</td>\n",
       "      <td>0.00</td>\n",
       "      <td>sem_01</td>\n",
       "    </tr>\n",
       "    <tr>\n",
       "      <th>10</th>\n",
       "      <td>1541180002</td>\n",
       "      <td>1811400700</td>\n",
       "      <td>Pengelolaan Perhotelan</td>\n",
       "      <td>1181</td>\n",
       "      <td>1182</td>\n",
       "      <td>0.00</td>\n",
       "      <td>0.00</td>\n",
       "      <td>sem_02</td>\n",
       "    </tr>\n",
       "  </tbody>\n",
       "</table>\n",
       "</div>"
      ],
      "text/plain": [
       "           NIM form_number         major_name_opcs  ADMIT_TERM  STRM   GPA  \\\n",
       "5   1541180001  1831100345  Pengelolaan Perhotelan        1181  1181  3.50   \n",
       "6   1541180001  1831100345  Pengelolaan Perhotelan        1181  1182  3.06   \n",
       "7   1541180001  1831100345  Pengelolaan Perhotelan        1181  1183  3.58   \n",
       "9   1541180002  1811400700  Pengelolaan Perhotelan        1181  1181  0.00   \n",
       "10  1541180002  1811400700  Pengelolaan Perhotelan        1181  1182  0.00   \n",
       "\n",
       "    CGPA semester  \n",
       "5   3.50   sem_01  \n",
       "6   3.28   sem_02  \n",
       "7   3.33   sem_03  \n",
       "9   0.00   sem_01  \n",
       "10  0.00   sem_02  "
      ]
     },
     "execution_count": 15,
     "metadata": {},
     "output_type": "execute_result"
    }
   ],
   "source": [
    "cht_18_master.head()"
   ]
  },
  {
   "cell_type": "code",
   "execution_count": 16,
   "metadata": {},
   "outputs": [],
   "source": [
    "#drop changed major data, keep the updated major data\n",
    "cht_18_master = cht_18_master.loc[cht_18_master['CGPA']!=0]"
   ]
  },
  {
   "cell_type": "markdown",
   "metadata": {},
   "source": [
    "### Get Last Semester CGPA"
   ]
  },
  {
   "cell_type": "code",
   "execution_count": 17,
   "metadata": {},
   "outputs": [],
   "source": [
    "df = cht_18_master.sort_values(['NIM', 'STRM'], ascending=True)"
   ]
  },
  {
   "cell_type": "code",
   "execution_count": 18,
   "metadata": {},
   "outputs": [],
   "source": [
    "df['lead_sem'] = df.groupby('NIM')['semester'].shift(-1)"
   ]
  },
  {
   "cell_type": "code",
   "execution_count": 19,
   "metadata": {},
   "outputs": [],
   "source": [
    "df['is_lead_sem_null'] = df['lead_sem'].isnull()"
   ]
  },
  {
   "cell_type": "code",
   "execution_count": 20,
   "metadata": {},
   "outputs": [],
   "source": [
    "df_last_sem = df[df['is_lead_sem_null']==True][['NIM', 'form_number', 'major_name_opcs', 'CGPA']]"
   ]
  },
  {
   "cell_type": "code",
   "execution_count": 21,
   "metadata": {},
   "outputs": [],
   "source": [
    "df_last_sem.rename(columns={\n",
    "    'CGPA': 'Last_CGPA'\n",
    "}, inplace=True)"
   ]
  },
  {
   "cell_type": "markdown",
   "metadata": {},
   "source": [
    "# Pivot"
   ]
  },
  {
   "cell_type": "code",
   "execution_count": 22,
   "metadata": {},
   "outputs": [],
   "source": [
    "df_CGPA = \\\n",
    "df.pivot_table(index=['NIM', 'form_number', 'major_name_opcs'], columns='semester', values='CGPA').reset_index()\n",
    "\n",
    "df_GPA = \\\n",
    "df.pivot_table(index=['NIM', 'form_number', 'major_name_opcs'], columns='semester', values='GPA').reset_index()"
   ]
  },
  {
   "cell_type": "code",
   "execution_count": 23,
   "metadata": {},
   "outputs": [],
   "source": [
    "OPCS_master = pd.merge(df_CGPA, df_GPA, on=['NIM','form_number','major_name_opcs'], suffixes=('_CGPA', '_GPA'))"
   ]
  },
  {
   "cell_type": "code",
   "execution_count": 24,
   "metadata": {},
   "outputs": [],
   "source": [
    "OPCS_master = OPCS_master.merge(df_last_sem, on=['NIM','form_number','major_name_opcs'])"
   ]
  },
  {
   "cell_type": "code",
   "execution_count": 25,
   "metadata": {},
   "outputs": [
    {
     "data": {
      "text/html": [
       "<div>\n",
       "<style scoped>\n",
       "    .dataframe tbody tr th:only-of-type {\n",
       "        vertical-align: middle;\n",
       "    }\n",
       "\n",
       "    .dataframe tbody tr th {\n",
       "        vertical-align: top;\n",
       "    }\n",
       "\n",
       "    .dataframe thead th {\n",
       "        text-align: right;\n",
       "    }\n",
       "</style>\n",
       "<table border=\"1\" class=\"dataframe\">\n",
       "  <thead>\n",
       "    <tr style=\"text-align: right;\">\n",
       "      <th></th>\n",
       "      <th>NIM</th>\n",
       "      <th>form_number</th>\n",
       "      <th>major_name_opcs</th>\n",
       "      <th>sem_01_CGPA</th>\n",
       "      <th>sem_02_CGPA</th>\n",
       "      <th>sem_03_CGPA</th>\n",
       "      <th>sem_01_GPA</th>\n",
       "      <th>sem_02_GPA</th>\n",
       "      <th>sem_03_GPA</th>\n",
       "      <th>Last_CGPA</th>\n",
       "    </tr>\n",
       "  </thead>\n",
       "  <tbody>\n",
       "    <tr>\n",
       "      <th>0</th>\n",
       "      <td>1011180001</td>\n",
       "      <td>1831100382</td>\n",
       "      <td>Manajemen</td>\n",
       "      <td>3.54</td>\n",
       "      <td>3.30</td>\n",
       "      <td>3.25</td>\n",
       "      <td>3.54</td>\n",
       "      <td>3.04</td>\n",
       "      <td>2.98</td>\n",
       "      <td>3.25</td>\n",
       "    </tr>\n",
       "    <tr>\n",
       "      <th>1</th>\n",
       "      <td>1011180002</td>\n",
       "      <td>1811100709</td>\n",
       "      <td>Manajemen</td>\n",
       "      <td>1.06</td>\n",
       "      <td>1.06</td>\n",
       "      <td>1.06</td>\n",
       "      <td>1.06</td>\n",
       "      <td>0.00</td>\n",
       "      <td>0.00</td>\n",
       "      <td>1.06</td>\n",
       "    </tr>\n",
       "    <tr>\n",
       "      <th>2</th>\n",
       "      <td>1011180003</td>\n",
       "      <td>1811100388</td>\n",
       "      <td>Manajemen</td>\n",
       "      <td>2.39</td>\n",
       "      <td>2.03</td>\n",
       "      <td>2.07</td>\n",
       "      <td>2.39</td>\n",
       "      <td>1.63</td>\n",
       "      <td>2.25</td>\n",
       "      <td>2.07</td>\n",
       "    </tr>\n",
       "    <tr>\n",
       "      <th>3</th>\n",
       "      <td>1011180004</td>\n",
       "      <td>1831100016</td>\n",
       "      <td>Manajemen</td>\n",
       "      <td>3.08</td>\n",
       "      <td>2.99</td>\n",
       "      <td>2.91</td>\n",
       "      <td>3.08</td>\n",
       "      <td>2.89</td>\n",
       "      <td>2.56</td>\n",
       "      <td>2.91</td>\n",
       "    </tr>\n",
       "    <tr>\n",
       "      <th>4</th>\n",
       "      <td>1011180005</td>\n",
       "      <td>1811100684</td>\n",
       "      <td>Manajemen</td>\n",
       "      <td>3.54</td>\n",
       "      <td>3.27</td>\n",
       "      <td>3.28</td>\n",
       "      <td>3.54</td>\n",
       "      <td>2.98</td>\n",
       "      <td>3.30</td>\n",
       "      <td>3.28</td>\n",
       "    </tr>\n",
       "  </tbody>\n",
       "</table>\n",
       "</div>"
      ],
      "text/plain": [
       "          NIM form_number major_name_opcs  sem_01_CGPA  sem_02_CGPA  \\\n",
       "0  1011180001  1831100382       Manajemen         3.54         3.30   \n",
       "1  1011180002  1811100709       Manajemen         1.06         1.06   \n",
       "2  1011180003  1811100388       Manajemen         2.39         2.03   \n",
       "3  1011180004  1831100016       Manajemen         3.08         2.99   \n",
       "4  1011180005  1811100684       Manajemen         3.54         3.27   \n",
       "\n",
       "   sem_03_CGPA  sem_01_GPA  sem_02_GPA  sem_03_GPA  Last_CGPA  \n",
       "0         3.25        3.54        3.04        2.98       3.25  \n",
       "1         1.06        1.06        0.00        0.00       1.06  \n",
       "2         2.07        2.39        1.63        2.25       2.07  \n",
       "3         2.91        3.08        2.89        2.56       2.91  \n",
       "4         3.28        3.54        2.98        3.30       3.28  "
      ]
     },
     "execution_count": 25,
     "metadata": {},
     "output_type": "execute_result"
    }
   ],
   "source": [
    "OPCS_master.head()"
   ]
  },
  {
   "cell_type": "markdown",
   "metadata": {},
   "source": [
    "# Dump to Pickle"
   ]
  },
  {
   "cell_type": "code",
   "execution_count": 26,
   "metadata": {},
   "outputs": [],
   "source": [
    "dump_to_pickle(OPCS_master, out_path)"
   ]
  }
 ],
 "metadata": {
  "kernelspec": {
   "display_name": "Python 3",
   "language": "python",
   "name": "python3"
  },
  "language_info": {
   "codemirror_mode": {
    "name": "ipython",
    "version": 3
   },
   "file_extension": ".py",
   "mimetype": "text/x-python",
   "name": "python",
   "nbconvert_exporter": "python",
   "pygments_lexer": "ipython3",
   "version": "3.6.5"
  }
 },
 "nbformat": 4,
 "nbformat_minor": 2
}
